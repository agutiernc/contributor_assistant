{
 "cells": [
  {
   "cell_type": "code",
   "execution_count": 9,
   "id": "593c0676-e9a8-4285-87e5-0ca1b1539f31",
   "metadata": {},
   "outputs": [],
   "source": [
    "import json\n",
    "import uuid\n",
    "from langchain_text_splitters import MarkdownHeaderTextSplitter\n",
    "from langchain_core.documents import Document"
   ]
  },
  {
   "cell_type": "code",
   "execution_count": 2,
   "id": "7c50c093-5673-4cf4-b640-c6070e2ac7c3",
   "metadata": {},
   "outputs": [],
   "source": [
    "with open('./data/contributing.md', 'r') as f:\n",
    "    markdown_doc = f.read()"
   ]
  },
  {
   "cell_type": "markdown",
   "id": "e581184e-5756-4fbd-910f-05f265c9220f",
   "metadata": {},
   "source": [
    "## Parse Markdown to Document Object"
   ]
  },
  {
   "cell_type": "code",
   "execution_count": 3,
   "id": "4e1c178c-8454-4152-8ee4-03c36edd193a",
   "metadata": {},
   "outputs": [],
   "source": [
    "headers_to_split_on = [\n",
    "    (\"#\", \"Header 1\"),\n",
    "    (\"##\", \"Header 2\"),\n",
    "    (\"###\", \"Header 3\"),\n",
    "    (\"####\", \"Header 4\"),\n",
    "    (\"#####\", \"Header 5\"),\n",
    "]"
   ]
  },
  {
   "cell_type": "code",
   "execution_count": 4,
   "id": "c0c1ef18-7fd0-4206-9deb-02dc533dffc1",
   "metadata": {},
   "outputs": [],
   "source": [
    "markdown_splitter = MarkdownHeaderTextSplitter(headers_to_split_on)"
   ]
  },
  {
   "cell_type": "code",
   "execution_count": 5,
   "id": "5d1c166b-3606-4152-a5c9-b80f9a0330a0",
   "metadata": {},
   "outputs": [],
   "source": [
    "docs_split = markdown_splitter.split_text(markdown_doc)"
   ]
  },
  {
   "cell_type": "code",
   "execution_count": 6,
   "id": "b554c86b-1aa1-4efd-b192-afa63e1a2c5a",
   "metadata": {},
   "outputs": [],
   "source": [
    "documents = []\n",
    "\n",
    "for doc in docs_split:\n",
    "    doc_dict = {\n",
    "        'id': str(uuid.uuid4()),\n",
    "        'page_content': doc.page_content\n",
    "    }\n",
    "\n",
    "    for key, val in doc.metadata.items():\n",
    "        header = key.replace(' ', '_').lower()\n",
    "        doc_dict[header] = val\n",
    "\n",
    "    documents.append(doc_dict)"
   ]
  },
  {
   "cell_type": "code",
   "execution_count": 7,
   "id": "8b83d4fc-a2ee-4363-9475-f118e761d0f0",
   "metadata": {},
   "outputs": [
    {
     "data": {
      "text/plain": [
       "{'id': '3ba4d080-97a6-4954-829e-121e008c43e9',\n",
       " 'page_content': 'In the `hfla-site` Slack channel, send an introductory message with your GitHub handle/username asking to be added to the Hack for LA website GitHub repository (this repository).  \\n**NOTE:** Once you have accepted the GitHub invite (comes via email or in your GitHub notifications), **please do the following**:  \\n1. Make your own Hack for LA GitHub organization membership public by following this [guide](https://help.github.com/en/articles/publicizing-or-hiding-organization-membership#changing-the-visibility-of-your-organization-membership).\\n2. Set up two-factor authentication on your account by following this [guide](https://docs.github.com/en/github/authenticating-to-github/configuring-two-factor-authentication).  \\n***',\n",
       " 'header_1': '**How to Contribute to Hack for LA**',\n",
       " 'header_2': '**Part 1: Setting up the development environment**',\n",
       " 'header_3': '**1.1 Dev setup (1): Join the repository team**'}"
      ]
     },
     "execution_count": 7,
     "metadata": {},
     "output_type": "execute_result"
    }
   ],
   "source": [
    "documents[0]"
   ]
  },
  {
   "cell_type": "code",
   "execution_count": 8,
   "id": "08befbd0-6dfa-4f33-9131-79b0305eb517",
   "metadata": {},
   "outputs": [],
   "source": [
    "with open('./data/documents.json', 'w') as f:\n",
    "    json.dump(documents, f, indent=4)"
   ]
  }
 ],
 "metadata": {
  "kernelspec": {
   "display_name": "Python 3 (ipykernel)",
   "language": "python",
   "name": "python3"
  },
  "language_info": {
   "codemirror_mode": {
    "name": "ipython",
    "version": 3
   },
   "file_extension": ".py",
   "mimetype": "text/x-python",
   "name": "python",
   "nbconvert_exporter": "python",
   "pygments_lexer": "ipython3",
   "version": "3.12.4"
  }
 },
 "nbformat": 4,
 "nbformat_minor": 5
}
