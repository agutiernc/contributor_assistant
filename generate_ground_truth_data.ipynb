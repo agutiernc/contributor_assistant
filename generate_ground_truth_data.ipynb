{
 "cells": [
  {
   "cell_type": "code",
   "execution_count": 1,
   "id": "145e07e6-3179-4dcc-aeed-69c66cda9cf5",
   "metadata": {},
   "outputs": [],
   "source": [
    "import json\n",
    "import pandas as pd\n",
    "import anthropic\n",
    "from tqdm.auto import tqdm"
   ]
  },
  {
   "cell_type": "code",
   "execution_count": 2,
   "id": "207f64ee-a51e-4bea-9a4b-c72f4186e96e",
   "metadata": {},
   "outputs": [],
   "source": [
    "with open('./data/documents.json', 'r') as f_in:\n",
    "    documents = json.load(f_in)"
   ]
  },
  {
   "cell_type": "code",
   "execution_count": 35,
   "id": "cd248544-7468-4fcf-a5ea-e02a7a2c4a7b",
   "metadata": {},
   "outputs": [],
   "source": [
    "def generate_prompt(doc):\n",
    "    prompt_template = \"\"\"\n",
    "    Please emulate a contributor to an open source software project.\n",
    "    Formulate {num_questions} questions this contributor might ask based on a FAQ type record.\n",
    "    Make the questions relevant to the page_content. The headers are releated, but the last header is much more\n",
    "    relevant to the current page_content.\n",
    "    The record should contain the answer to the questions, and the questions should be complete and not\n",
    "    too short. If possible, use as fewer words as possible from the record. Also, the records for each\n",
    "    header may contain some or all of the record headers. Treat the headers as metadata.\n",
    "\n",
    "    The record:\n",
    "\n",
    "    page_content: {page_content}\n",
    "    header_1: {header_1}\n",
    "    header_2: {header_2}\n",
    "    header_3: {header_3}\n",
    "    header_4: {header_4}\n",
    "    header_5: {header_5}\n",
    "\n",
    "    Provide the output in parsable JSON without using code blocks, such as:\n",
    "\n",
    "    {{\"questions\": [\"question1\", \"question2\", ..., \"question5\"]}}\n",
    "    \"\"\".strip()\n",
    "\n",
    "    # Gnerate 3 or 5 questions based on page content length\n",
    "    content_length = len(doc.get('page_content', ''))\n",
    "    num_questions = 3 if content_length < 600 else 5\n",
    "\n",
    "    # Use doc.get() with default values to avoid KeyError\n",
    "    prompt = prompt_template.format(\n",
    "        num_questions=num_questions,\n",
    "        page_content=doc.get('page_content', ''),\n",
    "        header_1=doc.get('header_1', ''),\n",
    "        header_2=doc.get('header_2', ''),\n",
    "        header_3=doc.get('header_3', ''),\n",
    "        header_4=doc.get('header_4', ''),\n",
    "        header_5=doc.get('header_5', '')\n",
    "    )\n",
    "\n",
    "    return prompt"
   ]
  },
  {
   "cell_type": "code",
   "execution_count": 25,
   "id": "235b883a-626f-4b0b-a27f-a8ba1ae9b8db",
   "metadata": {},
   "outputs": [],
   "source": [
    "prompt = generate_prompt(documents[3])"
   ]
  },
  {
   "cell_type": "code",
   "execution_count": 26,
   "id": "3b04aa00-091d-414d-b2c6-3a24a1f2c05d",
   "metadata": {},
   "outputs": [
    {
     "data": {
      "text/plain": [
       "{'id': '30f244ee-b626-47b8-8775-9b1f539487ad',\n",
       " 'page_content': 'Before creating a copy to your local machine, you must have Git installed. You can find instructions for installing Git for your operating system [**here**](https://git-scm.com/book/en/v2/Getting-Started-Installing-Git).  \\nThe following steps will clone (create) a local copy of the forked repository on your computer.',\n",
       " 'header_1': '**How to Contribute to Hack for LA**',\n",
       " 'header_2': '**Part 1: Setting up the development environment**',\n",
       " 'header_3': '**1.4 Dev setup (4): Clone (Create) a copy on your computer**'}"
      ]
     },
     "execution_count": 26,
     "metadata": {},
     "output_type": "execute_result"
    }
   ],
   "source": [
    "documents[3]"
   ]
  },
  {
   "cell_type": "code",
   "execution_count": 27,
   "id": "42fe2f6c-ea60-42be-9f6d-0f539af93a0f",
   "metadata": {},
   "outputs": [
    {
     "name": "stdout",
     "output_type": "stream",
     "text": [
      "Please emulate a contributor to an open source software project.\n",
      "    Formulate 3 questions this contributor might ask based on a FAQ type record.\n",
      "    Make the questions relevant to the page_content. The headers are releated, but the last header is much more\n",
      "    relevant to the current page_content.\n",
      "    The record should contain the answer to the questions, and the questions should be complete and not\n",
      "    too short. If possible, use as fewer words as possible from the record. Also, the records for each\n",
      "    header may contain some or all of the record headers. Treat the headers as metadata.\n",
      "\n",
      "    The record:\n",
      "\n",
      "    page_content: Before creating a copy to your local machine, you must have Git installed. You can find instructions for installing Git for your operating system [**here**](https://git-scm.com/book/en/v2/Getting-Started-Installing-Git).  \n",
      "The following steps will clone (create) a local copy of the forked repository on your computer.\n",
      "    header_1: **How to Contribute to Hack for LA**\n",
      "    header_2: **Part 1: Setting up the development environment**\n",
      "    header_3: **1.4 Dev setup (4): Clone (Create) a copy on your computer**\n",
      "    header_4: \n",
      "    header_5: \n",
      "\n",
      "    Provide the output in parsable JSON without using code blocks, such as:\n",
      "\n",
      "    {\"questions\": [\"question1\", \"question2\", ..., \"question5\"]}\n"
     ]
    }
   ],
   "source": [
    "print(prompt)"
   ]
  },
  {
   "cell_type": "markdown",
   "id": "301f5c07-7b00-48c3-8b66-5f2dd3400c55",
   "metadata": {},
   "source": [
    "### Test first document"
   ]
  },
  {
   "cell_type": "code",
   "execution_count": 7,
   "id": "3fbd3076-172a-4845-b5de-a85af17681e0",
   "metadata": {},
   "outputs": [],
   "source": [
    "client = anthropic.Anthropic()"
   ]
  },
  {
   "cell_type": "code",
   "execution_count": 8,
   "id": "856ae530-c495-4d46-a90b-11206ad0212b",
   "metadata": {},
   "outputs": [],
   "source": [
    "def llm(prompt):\n",
    "    response = client.messages.create(\n",
    "        model=\"claude-3-5-sonnet-20240620\",\n",
    "        max_tokens=1024,\n",
    "        messages=[\n",
    "            {\"role\": \"user\", \"content\": prompt}\n",
    "        ]\n",
    "    )\n",
    "\n",
    "    return response.content[0].text"
   ]
  },
  {
   "cell_type": "code",
   "execution_count": 28,
   "id": "60cbec73-cd37-4a50-8bfb-1b558615522f",
   "metadata": {},
   "outputs": [],
   "source": [
    "questions = llm(prompt)"
   ]
  },
  {
   "cell_type": "code",
   "execution_count": 29,
   "id": "b76d2c0f-3321-44b6-aabd-8e2147f42472",
   "metadata": {},
   "outputs": [
    {
     "name": "stdout",
     "output_type": "stream",
     "text": [
      "{\n",
      "  \"questions\": [\n",
      "    \"What prerequisite software do I need to install before cloning a repository for local development?\",\n",
      "    \"How can I create a local copy of a forked repository on my machine?\",\n",
      "    \"Where can I find instructions for installing Git on my specific operating system?\"\n",
      "  ]\n",
      "}\n"
     ]
    }
   ],
   "source": [
    "print(questions)"
   ]
  },
  {
   "cell_type": "code",
   "execution_count": 30,
   "id": "0b0365dd-4882-4b3c-a7e7-b687b4cd7641",
   "metadata": {},
   "outputs": [
    {
     "data": {
      "text/plain": [
       "{'questions': ['What prerequisite software do I need to install before cloning a repository for local development?',\n",
       "  'How can I create a local copy of a forked repository on my machine?',\n",
       "  'Where can I find instructions for installing Git on my specific operating system?']}"
      ]
     },
     "execution_count": 30,
     "metadata": {},
     "output_type": "execute_result"
    }
   ],
   "source": [
    "json.loads(questions)"
   ]
  },
  {
   "cell_type": "code",
   "execution_count": 33,
   "id": "02e5ad85-94fa-41bc-8cf0-23fde807dd5f",
   "metadata": {},
   "outputs": [],
   "source": [
    "# test for 5 questions\n",
    "questions_5 = llm(generate_prompt(documents[5]))"
   ]
  },
  {
   "cell_type": "code",
   "execution_count": 34,
   "id": "0918e853-b192-4822-a067-4c0c68aef6ae",
   "metadata": {},
   "outputs": [
    {
     "name": "stdout",
     "output_type": "stream",
     "text": [
      "{\n",
      "  \"questions\": [\n",
      "    \"How can I check if my local repository is correctly linked to my forked repo on GitHub?\",\n",
      "    \"What command should I use to view the remote URLs associated with my local repository?\",\n",
      "    \"Why is it necessary to add an upstream remote to my local repository?\",\n",
      "    \"What are the steps to add an upstream remote for keeping my local repo in sync with the main project?\",\n",
      "    \"After adding the upstream remote, how can I confirm that both origin and upstream are properly configured?\"\n",
      "  ]\n",
      "}\n"
     ]
    }
   ],
   "source": [
    "print(questions_5)"
   ]
  },
  {
   "cell_type": "markdown",
   "id": "cd153637-765a-4bc4-881c-b90bbe09e7f0",
   "metadata": {},
   "source": [
    "# Generate the questions"
   ]
  },
  {
   "cell_type": "code",
   "execution_count": 41,
   "id": "e77cf28a-97a5-4b20-a9ec-a15355ebf69c",
   "metadata": {},
   "outputs": [],
   "source": [
    "def generate_questions(doc):\n",
    "    prompt = generate_prompt(doc)\n",
    "    \n",
    "    response = client.messages.create(\n",
    "        model=\"claude-3-5-sonnet-20240620\",\n",
    "        max_tokens=1024,\n",
    "        messages=[\n",
    "            {\"role\": \"user\", \"content\": prompt}\n",
    "        ]\n",
    "    )\n",
    "\n",
    "    json_response = response.content[0].text\n",
    "\n",
    "    return json_response"
   ]
  },
  {
   "cell_type": "code",
   "execution_count": 37,
   "id": "fe8c4348-f6dd-4bf1-9bbf-b2f7709e94ea",
   "metadata": {},
   "outputs": [],
   "source": [
    "results = {}"
   ]
  },
  {
   "cell_type": "code",
   "execution_count": 42,
   "id": "53ff2a14-b561-46ca-99e6-e38b35a73540",
   "metadata": {},
   "outputs": [
    {
     "data": {
      "application/vnd.jupyter.widget-view+json": {
       "model_id": "f72f0d8634084b61b45d87ca47ec9c57",
       "version_major": 2,
       "version_minor": 0
      },
      "text/plain": [
       "  0%|          | 0/60 [00:00<?, ?it/s]"
      ]
     },
     "metadata": {},
     "output_type": "display_data"
    }
   ],
   "source": [
    "for doc in tqdm(documents): \n",
    "    doc_id = doc['id']\n",
    "    \n",
    "    if doc_id in results:\n",
    "        continue\n",
    "\n",
    "    questions_raw = generate_questions(doc)\n",
    "    questions = json.loads(questions_raw)\n",
    "    results[doc_id] = questions['questions']"
   ]
  },
  {
   "cell_type": "code",
   "execution_count": 43,
   "id": "b291bedc-6683-422e-b0a6-1ab9ff39c273",
   "metadata": {},
   "outputs": [
    {
     "data": {
      "application/vnd.jupyter.widget-view+json": {
       "model_id": "d12667c5ecbc4af08d4757303a751686",
       "version_major": 2,
       "version_minor": 0
      },
      "text/plain": [
       "  0%|          | 0/60 [00:00<?, ?it/s]"
      ]
     },
     "metadata": {},
     "output_type": "display_data"
    }
   ],
   "source": [
    "final_results = []\n",
    "\n",
    "for doc_id, questions in tqdm(results.items()):\n",
    "    for q in questions:\n",
    "        final_results.append((doc_id, q))"
   ]
  },
  {
   "cell_type": "code",
   "execution_count": 44,
   "id": "9760f913-e177-4a1b-9fcd-cdc901f521d1",
   "metadata": {},
   "outputs": [
    {
     "data": {
      "text/plain": [
       "('3ba4d080-97a6-4954-829e-121e008c43e9',\n",
       " 'How do I request access to the Hack for LA website GitHub repository?')"
      ]
     },
     "execution_count": 44,
     "metadata": {},
     "output_type": "execute_result"
    }
   ],
   "source": [
    "final_results[0]"
   ]
  },
  {
   "cell_type": "code",
   "execution_count": 45,
   "id": "e1480031-e2d5-41ba-b669-2b5294b4533f",
   "metadata": {},
   "outputs": [],
   "source": [
    "df_results = pd.DataFrame(final_results, columns=['id', 'question'])"
   ]
  },
  {
   "cell_type": "code",
   "execution_count": 46,
   "id": "193e2e69-8e9d-40fb-ad55-b22ab0fded6c",
   "metadata": {},
   "outputs": [],
   "source": [
    "df_results.to_csv('./data/ground-truth-retrieval.csv', index=False)"
   ]
  },
  {
   "cell_type": "code",
   "execution_count": 47,
   "id": "5e632fc2-8ef1-41c9-9f6c-363b440c8b0b",
   "metadata": {},
   "outputs": [
    {
     "name": "stdout",
     "output_type": "stream",
     "text": [
      "id,question\n",
      "3ba4d080-97a6-4954-829e-121e008c43e9,How do I request access to the Hack for LA website GitHub repository?\n",
      "3ba4d080-97a6-4954-829e-121e008c43e9,What steps should I take after accepting the GitHub invite for the Hack for LA repository?\n",
      "3ba4d080-97a6-4954-829e-121e008c43e9,Where can I find instructions on making my Hack for LA GitHub organization membership public?\n",
      "3ba4d080-97a6-4954-829e-121e008c43e9,\"Is two-factor authentication required for contributing to the Hack for LA project, and if so, how do I set it up?\"\n",
      "3ba4d080-97a6-4954-829e-121e008c43e9,What information should I include in my introductory message to the hfla-site Slack channel?\n",
      "b3c6a636-faff-4353-b429-4175bda0a22e,\"What are the installation options for Git on a Mac, and how much space do they require?\"\n",
      "b3c6a636-faff-4353-b429-4175bda0a22e,Is there a way to install Git on a Mac that uses less storage space?\n",
      "b3c6a636-faff-4353-b429-4175bda0a22e,Where can I find instructions for installing Git on different operating systems?\n",
      "b3c6a636-faff-4353-b429-4175bda0a22e,What's the recommended Git installation method for participating in Hack for LA projects?\n"
     ]
    }
   ],
   "source": [
    "!head ./data/ground-truth-retrieval.csv"
   ]
  },
  {
   "cell_type": "code",
   "execution_count": 48,
   "id": "044fd05d-4b04-4eb5-b19a-155ea4e60331",
   "metadata": {},
   "outputs": [
    {
     "data": {
      "text/html": [
       "<div>\n",
       "<style scoped>\n",
       "    .dataframe tbody tr th:only-of-type {\n",
       "        vertical-align: middle;\n",
       "    }\n",
       "\n",
       "    .dataframe tbody tr th {\n",
       "        vertical-align: top;\n",
       "    }\n",
       "\n",
       "    .dataframe thead th {\n",
       "        text-align: right;\n",
       "    }\n",
       "</style>\n",
       "<table border=\"1\" class=\"dataframe\">\n",
       "  <thead>\n",
       "    <tr style=\"text-align: right;\">\n",
       "      <th></th>\n",
       "      <th>id</th>\n",
       "      <th>question</th>\n",
       "    </tr>\n",
       "  </thead>\n",
       "  <tbody>\n",
       "    <tr>\n",
       "      <th>0</th>\n",
       "      <td>3ba4d080-97a6-4954-829e-121e008c43e9</td>\n",
       "      <td>How do I request access to the Hack for LA web...</td>\n",
       "    </tr>\n",
       "    <tr>\n",
       "      <th>1</th>\n",
       "      <td>3ba4d080-97a6-4954-829e-121e008c43e9</td>\n",
       "      <td>What steps should I take after accepting the G...</td>\n",
       "    </tr>\n",
       "    <tr>\n",
       "      <th>2</th>\n",
       "      <td>3ba4d080-97a6-4954-829e-121e008c43e9</td>\n",
       "      <td>Where can I find instructions on making my Hac...</td>\n",
       "    </tr>\n",
       "    <tr>\n",
       "      <th>3</th>\n",
       "      <td>3ba4d080-97a6-4954-829e-121e008c43e9</td>\n",
       "      <td>Is two-factor authentication required for cont...</td>\n",
       "    </tr>\n",
       "    <tr>\n",
       "      <th>4</th>\n",
       "      <td>3ba4d080-97a6-4954-829e-121e008c43e9</td>\n",
       "      <td>What information should I include in my introd...</td>\n",
       "    </tr>\n",
       "    <tr>\n",
       "      <th>5</th>\n",
       "      <td>b3c6a636-faff-4353-b429-4175bda0a22e</td>\n",
       "      <td>What are the installation options for Git on a...</td>\n",
       "    </tr>\n",
       "    <tr>\n",
       "      <th>6</th>\n",
       "      <td>b3c6a636-faff-4353-b429-4175bda0a22e</td>\n",
       "      <td>Is there a way to install Git on a Mac that us...</td>\n",
       "    </tr>\n",
       "    <tr>\n",
       "      <th>7</th>\n",
       "      <td>b3c6a636-faff-4353-b429-4175bda0a22e</td>\n",
       "      <td>Where can I find instructions for installing G...</td>\n",
       "    </tr>\n",
       "    <tr>\n",
       "      <th>8</th>\n",
       "      <td>b3c6a636-faff-4353-b429-4175bda0a22e</td>\n",
       "      <td>What's the recommended Git installation method...</td>\n",
       "    </tr>\n",
       "    <tr>\n",
       "      <th>9</th>\n",
       "      <td>b3c6a636-faff-4353-b429-4175bda0a22e</td>\n",
       "      <td>How can I install Git using Homebrew, and what...</td>\n",
       "    </tr>\n",
       "    <tr>\n",
       "      <th>10</th>\n",
       "      <td>cd95b82f-577c-4785-a6c9-506f830d8876</td>\n",
       "      <td>How do I create a copy of the Hack for LA webs...</td>\n",
       "    </tr>\n",
       "    <tr>\n",
       "      <th>11</th>\n",
       "      <td>cd95b82f-577c-4785-a6c9-506f830d8876</td>\n",
       "      <td>What is the purpose of forking a repository an...</td>\n",
       "    </tr>\n",
       "    <tr>\n",
       "      <th>12</th>\n",
       "      <td>cd95b82f-577c-4785-a6c9-506f830d8876</td>\n",
       "      <td>Can you explain the steps to fork the Hack for...</td>\n",
       "    </tr>\n",
       "    <tr>\n",
       "      <th>13</th>\n",
       "      <td>cd95b82f-577c-4785-a6c9-506f830d8876</td>\n",
       "      <td>After forking, what should the URL of my forke...</td>\n",
       "    </tr>\n",
       "    <tr>\n",
       "      <th>14</th>\n",
       "      <td>cd95b82f-577c-4785-a6c9-506f830d8876</td>\n",
       "      <td>Is the forked repository automatically availab...</td>\n",
       "    </tr>\n",
       "    <tr>\n",
       "      <th>15</th>\n",
       "      <td>30f244ee-b626-47b8-8775-9b1f539487ad</td>\n",
       "      <td>What prerequisite software do I need to instal...</td>\n",
       "    </tr>\n",
       "    <tr>\n",
       "      <th>16</th>\n",
       "      <td>30f244ee-b626-47b8-8775-9b1f539487ad</td>\n",
       "      <td>Can you explain the process of creating a loca...</td>\n",
       "    </tr>\n",
       "    <tr>\n",
       "      <th>17</th>\n",
       "      <td>30f244ee-b626-47b8-8775-9b1f539487ad</td>\n",
       "      <td>Where can I find instructions for installing G...</td>\n",
       "    </tr>\n",
       "    <tr>\n",
       "      <th>18</th>\n",
       "      <td>ac8e0f36-ea98-4ce0-badc-4b1195f83651</td>\n",
       "      <td>How do I create a new folder for Hack for LA p...</td>\n",
       "    </tr>\n",
       "    <tr>\n",
       "      <th>19</th>\n",
       "      <td>ac8e0f36-ea98-4ce0-badc-4b1195f83651</td>\n",
       "      <td>What's the correct command to clone the Hack f...</td>\n",
       "    </tr>\n",
       "    <tr>\n",
       "      <th>20</th>\n",
       "      <td>ac8e0f36-ea98-4ce0-badc-4b1195f83651</td>\n",
       "      <td>After cloning the repository, how can I verify...</td>\n",
       "    </tr>\n",
       "    <tr>\n",
       "      <th>21</th>\n",
       "      <td>ac8e0f36-ea98-4ce0-badc-4b1195f83651</td>\n",
       "      <td>Can you explain the process of navigating to t...</td>\n",
       "    </tr>\n",
       "    <tr>\n",
       "      <th>22</th>\n",
       "      <td>ac8e0f36-ea98-4ce0-badc-4b1195f83651</td>\n",
       "      <td>Is it necessary to name the parent folder 'hac...</td>\n",
       "    </tr>\n",
       "    <tr>\n",
       "      <th>23</th>\n",
       "      <td>33d49e14-6ac9-4f2a-ae09-824feac3963f</td>\n",
       "      <td>How can I confirm that my local repository is ...</td>\n",
       "    </tr>\n",
       "    <tr>\n",
       "      <th>24</th>\n",
       "      <td>33d49e14-6ac9-4f2a-ae09-824feac3963f</td>\n",
       "      <td>What command should I use to view the remote U...</td>\n",
       "    </tr>\n",
       "    <tr>\n",
       "      <th>25</th>\n",
       "      <td>33d49e14-6ac9-4f2a-ae09-824feac3963f</td>\n",
       "      <td>Why is it necessary to add an upstream remote ...</td>\n",
       "    </tr>\n",
       "    <tr>\n",
       "      <th>26</th>\n",
       "      <td>33d49e14-6ac9-4f2a-ae09-824feac3963f</td>\n",
       "      <td>How do I add the upstream remote for the origi...</td>\n",
       "    </tr>\n",
       "    <tr>\n",
       "      <th>27</th>\n",
       "      <td>33d49e14-6ac9-4f2a-ae09-824feac3963f</td>\n",
       "      <td>After adding the upstream remote, what should ...</td>\n",
       "    </tr>\n",
       "    <tr>\n",
       "      <th>28</th>\n",
       "      <td>7da5e900-3183-4d40-b0af-021562c21707</td>\n",
       "      <td>How do I update the origin remote URL for my f...</td>\n",
       "    </tr>\n",
       "    <tr>\n",
       "      <th>29</th>\n",
       "      <td>7da5e900-3183-4d40-b0af-021562c21707</td>\n",
       "      <td>What's the correct format for setting the orig...</td>\n",
       "    </tr>\n",
       "    <tr>\n",
       "      <th>30</th>\n",
       "      <td>7da5e900-3183-4d40-b0af-021562c21707</td>\n",
       "      <td>I cloned the main HackForLA repository instead...</td>\n",
       "    </tr>\n",
       "    <tr>\n",
       "      <th>31</th>\n",
       "      <td>729f9112-7dc4-4ad3-91c0-498578f7df13</td>\n",
       "      <td>What command should I use to add the original ...</td>\n",
       "    </tr>\n",
       "    <tr>\n",
       "      <th>32</th>\n",
       "      <td>729f9112-7dc4-4ad3-91c0-498578f7df13</td>\n",
       "      <td>How can I set up an 'upstream' remote to incor...</td>\n",
       "    </tr>\n",
       "    <tr>\n",
       "      <th>33</th>\n",
       "      <td>729f9112-7dc4-4ad3-91c0-498578f7df13</td>\n",
       "      <td>Is there a specific name I should use when add...</td>\n",
       "    </tr>\n",
       "    <tr>\n",
       "      <th>34</th>\n",
       "      <td>53899e16-a861-4283-995b-d1d53162a69a</td>\n",
       "      <td>What is the recommended approach for local dev...</td>\n",
       "    </tr>\n",
       "    <tr>\n",
       "      <th>35</th>\n",
       "      <td>53899e16-a861-4283-995b-d1d53162a69a</td>\n",
       "      <td>Where can I find installation instructions for...</td>\n",
       "    </tr>\n",
       "    <tr>\n",
       "      <th>36</th>\n",
       "      <td>53899e16-a861-4283-995b-d1d53162a69a</td>\n",
       "      <td>What should I do if I encounter difficulties i...</td>\n",
       "    </tr>\n",
       "    <tr>\n",
       "      <th>37</th>\n",
       "      <td>53899e16-a861-4283-995b-d1d53162a69a</td>\n",
       "      <td>Why is Docker recommended for local developmen...</td>\n",
       "    </tr>\n",
       "    <tr>\n",
       "      <th>38</th>\n",
       "      <td>53899e16-a861-4283-995b-d1d53162a69a</td>\n",
       "      <td>Where can I learn more about Docker and contai...</td>\n",
       "    </tr>\n",
       "    <tr>\n",
       "      <th>39</th>\n",
       "      <td>dc2f0571-6ff0-4c0b-b230-e15d6c0977e4</td>\n",
       "      <td>What should I do if I receive the error messag...</td>\n",
       "    </tr>\n",
       "  </tbody>\n",
       "</table>\n",
       "</div>"
      ],
      "text/plain": [
       "                                      id  \\\n",
       "0   3ba4d080-97a6-4954-829e-121e008c43e9   \n",
       "1   3ba4d080-97a6-4954-829e-121e008c43e9   \n",
       "2   3ba4d080-97a6-4954-829e-121e008c43e9   \n",
       "3   3ba4d080-97a6-4954-829e-121e008c43e9   \n",
       "4   3ba4d080-97a6-4954-829e-121e008c43e9   \n",
       "5   b3c6a636-faff-4353-b429-4175bda0a22e   \n",
       "6   b3c6a636-faff-4353-b429-4175bda0a22e   \n",
       "7   b3c6a636-faff-4353-b429-4175bda0a22e   \n",
       "8   b3c6a636-faff-4353-b429-4175bda0a22e   \n",
       "9   b3c6a636-faff-4353-b429-4175bda0a22e   \n",
       "10  cd95b82f-577c-4785-a6c9-506f830d8876   \n",
       "11  cd95b82f-577c-4785-a6c9-506f830d8876   \n",
       "12  cd95b82f-577c-4785-a6c9-506f830d8876   \n",
       "13  cd95b82f-577c-4785-a6c9-506f830d8876   \n",
       "14  cd95b82f-577c-4785-a6c9-506f830d8876   \n",
       "15  30f244ee-b626-47b8-8775-9b1f539487ad   \n",
       "16  30f244ee-b626-47b8-8775-9b1f539487ad   \n",
       "17  30f244ee-b626-47b8-8775-9b1f539487ad   \n",
       "18  ac8e0f36-ea98-4ce0-badc-4b1195f83651   \n",
       "19  ac8e0f36-ea98-4ce0-badc-4b1195f83651   \n",
       "20  ac8e0f36-ea98-4ce0-badc-4b1195f83651   \n",
       "21  ac8e0f36-ea98-4ce0-badc-4b1195f83651   \n",
       "22  ac8e0f36-ea98-4ce0-badc-4b1195f83651   \n",
       "23  33d49e14-6ac9-4f2a-ae09-824feac3963f   \n",
       "24  33d49e14-6ac9-4f2a-ae09-824feac3963f   \n",
       "25  33d49e14-6ac9-4f2a-ae09-824feac3963f   \n",
       "26  33d49e14-6ac9-4f2a-ae09-824feac3963f   \n",
       "27  33d49e14-6ac9-4f2a-ae09-824feac3963f   \n",
       "28  7da5e900-3183-4d40-b0af-021562c21707   \n",
       "29  7da5e900-3183-4d40-b0af-021562c21707   \n",
       "30  7da5e900-3183-4d40-b0af-021562c21707   \n",
       "31  729f9112-7dc4-4ad3-91c0-498578f7df13   \n",
       "32  729f9112-7dc4-4ad3-91c0-498578f7df13   \n",
       "33  729f9112-7dc4-4ad3-91c0-498578f7df13   \n",
       "34  53899e16-a861-4283-995b-d1d53162a69a   \n",
       "35  53899e16-a861-4283-995b-d1d53162a69a   \n",
       "36  53899e16-a861-4283-995b-d1d53162a69a   \n",
       "37  53899e16-a861-4283-995b-d1d53162a69a   \n",
       "38  53899e16-a861-4283-995b-d1d53162a69a   \n",
       "39  dc2f0571-6ff0-4c0b-b230-e15d6c0977e4   \n",
       "\n",
       "                                             question  \n",
       "0   How do I request access to the Hack for LA web...  \n",
       "1   What steps should I take after accepting the G...  \n",
       "2   Where can I find instructions on making my Hac...  \n",
       "3   Is two-factor authentication required for cont...  \n",
       "4   What information should I include in my introd...  \n",
       "5   What are the installation options for Git on a...  \n",
       "6   Is there a way to install Git on a Mac that us...  \n",
       "7   Where can I find instructions for installing G...  \n",
       "8   What's the recommended Git installation method...  \n",
       "9   How can I install Git using Homebrew, and what...  \n",
       "10  How do I create a copy of the Hack for LA webs...  \n",
       "11  What is the purpose of forking a repository an...  \n",
       "12  Can you explain the steps to fork the Hack for...  \n",
       "13  After forking, what should the URL of my forke...  \n",
       "14  Is the forked repository automatically availab...  \n",
       "15  What prerequisite software do I need to instal...  \n",
       "16  Can you explain the process of creating a loca...  \n",
       "17  Where can I find instructions for installing G...  \n",
       "18  How do I create a new folder for Hack for LA p...  \n",
       "19  What's the correct command to clone the Hack f...  \n",
       "20  After cloning the repository, how can I verify...  \n",
       "21  Can you explain the process of navigating to t...  \n",
       "22  Is it necessary to name the parent folder 'hac...  \n",
       "23  How can I confirm that my local repository is ...  \n",
       "24  What command should I use to view the remote U...  \n",
       "25  Why is it necessary to add an upstream remote ...  \n",
       "26  How do I add the upstream remote for the origi...  \n",
       "27  After adding the upstream remote, what should ...  \n",
       "28  How do I update the origin remote URL for my f...  \n",
       "29  What's the correct format for setting the orig...  \n",
       "30  I cloned the main HackForLA repository instead...  \n",
       "31  What command should I use to add the original ...  \n",
       "32  How can I set up an 'upstream' remote to incor...  \n",
       "33  Is there a specific name I should use when add...  \n",
       "34  What is the recommended approach for local dev...  \n",
       "35  Where can I find installation instructions for...  \n",
       "36  What should I do if I encounter difficulties i...  \n",
       "37  Why is Docker recommended for local developmen...  \n",
       "38  Where can I learn more about Docker and contai...  \n",
       "39  What should I do if I receive the error messag...  "
      ]
     },
     "execution_count": 48,
     "metadata": {},
     "output_type": "execute_result"
    }
   ],
   "source": [
    "df_results.head(40)"
   ]
  }
 ],
 "metadata": {
  "kernelspec": {
   "display_name": "Python 3 (ipykernel)",
   "language": "python",
   "name": "python3"
  },
  "language_info": {
   "codemirror_mode": {
    "name": "ipython",
    "version": 3
   },
   "file_extension": ".py",
   "mimetype": "text/x-python",
   "name": "python",
   "nbconvert_exporter": "python",
   "pygments_lexer": "ipython3",
   "version": "3.12.4"
  }
 },
 "nbformat": 4,
 "nbformat_minor": 5
}
