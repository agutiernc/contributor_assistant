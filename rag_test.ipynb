{
 "cells": [
  {
   "cell_type": "code",
   "execution_count": 1,
   "id": "870bb7e3-eab5-45c3-aeaf-73d0293f5905",
   "metadata": {},
   "outputs": [],
   "source": [
    "import pandas as pd\n",
    "import anthropic\n",
    "from tqdm.auto import tqdm\n",
    "from elasticsearch import Elasticsearch\n",
    "from sentence_transformers import SentenceTransformer\n",
    "import json"
   ]
  },
  {
   "cell_type": "code",
   "execution_count": 2,
   "id": "b30da0e1-47f9-48e4-93c6-bfbeca8a4b6e",
   "metadata": {},
   "outputs": [],
   "source": [
    "with open('./data/documents.json', 'r') as f_in:\n",
    "    documents = json.load(f_in)"
   ]
  },
  {
   "cell_type": "code",
   "execution_count": 3,
   "id": "ca598cff-bcdc-42f4-b393-0905e8b2b7b6",
   "metadata": {},
   "outputs": [
    {
     "data": {
      "text/plain": [
       "{'id': '3ba4d080-97a6-4954-829e-121e008c43e9',\n",
       " 'page_content': 'In the `hfla-site` Slack channel, send an introductory message with your GitHub handle/username asking to be added to the Hack for LA website GitHub repository (this repository).  \\n**NOTE:** Once you have accepted the GitHub invite (comes via email or in your GitHub notifications), **please do the following**:  \\n1. Make your own Hack for LA GitHub organization membership public by following this [guide](https://help.github.com/en/articles/publicizing-or-hiding-organization-membership#changing-the-visibility-of-your-organization-membership).\\n2. Set up two-factor authentication on your account by following this [guide](https://docs.github.com/en/github/authenticating-to-github/configuring-two-factor-authentication).  \\n***',\n",
       " 'header_1': '**How to Contribute to Hack for LA**',\n",
       " 'header_2': '**Part 1: Setting up the development environment**',\n",
       " 'header_3': '**1.1 Dev setup (1): Join the repository team**'}"
      ]
     },
     "execution_count": 3,
     "metadata": {},
     "output_type": "execute_result"
    }
   ],
   "source": [
    "documents[0]"
   ]
  },
  {
   "cell_type": "markdown",
   "id": "b0e1d1bd-354d-410f-bfbc-a1cc634f92e9",
   "metadata": {},
   "source": [
    "## Indexing Stage"
   ]
  },
  {
   "cell_type": "code",
   "execution_count": 4,
   "id": "02c08206-4958-4b2d-99df-34d40c4acf68",
   "metadata": {},
   "outputs": [
    {
     "name": "stderr",
     "output_type": "stream",
     "text": [
      "/opt/homebrew/Caskroom/miniconda/base/envs/llm_venv/lib/python3.12/site-packages/transformers/tokenization_utils_base.py:1601: FutureWarning: `clean_up_tokenization_spaces` was not set. It will be set to `True` by default. This behavior will be depracted in transformers v4.45, and will be then set to `False` by default. For more details check this issue: https://github.com/huggingface/transformers/issues/31884\n",
      "  warnings.warn(\n"
     ]
    }
   ],
   "source": [
    "model = SentenceTransformer('multi-qa-MiniLM-L6-cos-v1')"
   ]
  },
  {
   "cell_type": "code",
   "execution_count": 5,
   "id": "aeeeb1c1-5420-456e-9593-3e583a56d6a3",
   "metadata": {},
   "outputs": [],
   "source": [
    "query = 'Where do I find github issues to work on?'"
   ]
  },
  {
   "cell_type": "code",
   "execution_count": 6,
   "id": "e2e2ace0-bc4e-41fc-9fd0-7e90151349ca",
   "metadata": {},
   "outputs": [],
   "source": [
    "v = model.encode(query)"
   ]
  },
  {
   "cell_type": "code",
   "execution_count": 7,
   "id": "587c0b8b-5327-4dbf-9613-142a0aae9d40",
   "metadata": {},
   "outputs": [
    {
     "data": {
      "text/plain": [
       "384"
      ]
     },
     "execution_count": 7,
     "metadata": {},
     "output_type": "execute_result"
    }
   ],
   "source": [
    "len(v)"
   ]
  },
  {
   "cell_type": "code",
   "execution_count": 8,
   "id": "6dcf5be8-0415-4679-ac29-7e6212c5a5a0",
   "metadata": {},
   "outputs": [],
   "source": [
    "index_settings = {\n",
    "  \"settings\": {\n",
    "    \"number_of_shards\": 1,\n",
    "    \"number_of_replicas\": 0\n",
    "  },\n",
    "  \"mappings\": {\n",
    "    \"dynamic\": True,\n",
    "    \"properties\": {\n",
    "      \"id\": { \"type\": \"keyword\" },\n",
    "      \"page_content\": { \"type\": \"text\" },\n",
    "      \"header_1\": { \"type\": \"text\" },\n",
    "      \"header_2\": { \"type\": \"text\" },\n",
    "      \"header_3\": { \"type\": \"text\" },\n",
    "      \"header_4\": { \"type\": \"text\"},\n",
    "      \"header_5\": { \"type\": \"text\"},\n",
    "      \"page_content_vector\": {\n",
    "        \"type\": \"dense_vector\",\n",
    "        \"dims\": 384,\n",
    "        \"index\": True,\n",
    "        \"similarity\": \"cosine\"\n",
    "      },\n",
    "     \"metadata_vector\": {\n",
    "        \"type\": \"dense_vector\",\n",
    "        \"dims\": 384,\n",
    "        \"index\": True,\n",
    "        \"similarity\": \"cosine\"\n",
    "      },\n",
    "     \"combined_vector\": {\n",
    "        \"type\": \"dense_vector\",\n",
    "        \"dims\": 384,\n",
    "        \"index\": True,\n",
    "        \"similarity\": \"cosine\"\n",
    "      }\n",
    "    }\n",
    "  }\n",
    "}\n",
    "\n",
    "index_name = \"contributing_h4la\""
   ]
  },
  {
   "cell_type": "code",
   "execution_count": 9,
   "id": "6386199c-e3ae-4a84-a83f-d1c3875d714d",
   "metadata": {},
   "outputs": [],
   "source": [
    "es_client = Elasticsearch('http://localhost:9200')"
   ]
  },
  {
   "cell_type": "code",
   "execution_count": 10,
   "id": "d62168dd-8c85-4dd3-bf2e-388ad7ac9caa",
   "metadata": {},
   "outputs": [
    {
     "data": {
      "text/plain": [
       "ObjectApiResponse({'acknowledged': True, 'shards_acknowledged': True, 'index': 'contributing_h4la'})"
      ]
     },
     "execution_count": 10,
     "metadata": {},
     "output_type": "execute_result"
    }
   ],
   "source": [
    "es_client.indices.delete(index=index_name, ignore_unavailable=True)\n",
    "es_client.indices.create(index=index_name, body=index_settings)"
   ]
  },
  {
   "cell_type": "code",
   "execution_count": 11,
   "id": "c46557ab-9706-48a1-926d-9518cc238c2b",
   "metadata": {},
   "outputs": [
    {
     "data": {
      "application/vnd.jupyter.widget-view+json": {
       "model_id": "36bd3903bcfd4fe9b40c02893582aab4",
       "version_major": 2,
       "version_minor": 0
      },
      "text/plain": [
       "  0%|          | 0/60 [00:00<?, ?it/s]"
      ]
     },
     "metadata": {},
     "output_type": "display_data"
    }
   ],
   "source": [
    "for doc in tqdm(documents):\n",
    "    # extract content from doc\n",
    "    content = doc.get('page_content')\n",
    "    headers = ' '.join([doc.get(f'header_{i}', '') for i in range(1, 6)])\n",
    "\n",
    "    # combine headers and content for full text encoding\n",
    "    combined_text = headers + ' ' + content\n",
    "\n",
    "    # encode content and headers\n",
    "    doc['page_content_vector'] = model.encode(content)\n",
    "    doc['metadata_vector'] = model.encode(headers)\n",
    "    doc['combined_vector'] = model.encode(combined_text)"
   ]
  },
  {
   "cell_type": "code",
   "execution_count": 12,
   "id": "847561f9-4a79-4f9e-90ff-c87608f3b94f",
   "metadata": {},
   "outputs": [
    {
     "data": {
      "application/vnd.jupyter.widget-view+json": {
       "model_id": "71d55c877f4b446fa6dd1637d9cbe9b9",
       "version_major": 2,
       "version_minor": 0
      },
      "text/plain": [
       "  0%|          | 0/60 [00:00<?, ?it/s]"
      ]
     },
     "metadata": {},
     "output_type": "display_data"
    }
   ],
   "source": [
    "for doc in tqdm(documents):\n",
    "    try:\n",
    "        es_client.index(index=index_name, document=doc)\n",
    "    except Exception as e:\n",
    "        print(e)"
   ]
  },
  {
   "cell_type": "markdown",
   "id": "c3a4e4f7-892e-4d29-8c86-da1e69bd883c",
   "metadata": {},
   "source": [
    "## Retrieval Evaluation Stage"
   ]
  },
  {
   "cell_type": "code",
   "execution_count": 13,
   "id": "50fe1406-0825-479d-b549-e4aa6576b0b4",
   "metadata": {},
   "outputs": [],
   "source": [
    "from typing import Dict\n",
    "from langchain_huggingface import HuggingFaceEmbeddings\n",
    "from langchain_elasticsearch import ElasticsearchRetriever"
   ]
  },
  {
   "cell_type": "code",
   "execution_count": 14,
   "id": "e8ed86f4-201c-4f5b-ad71-460ab7841f6b",
   "metadata": {},
   "outputs": [],
   "source": [
    "es_url = 'http://localhost:9200'"
   ]
  },
  {
   "cell_type": "code",
   "execution_count": 15,
   "id": "19e2ce56-55c6-4f11-b00b-ce938f1ed834",
   "metadata": {},
   "outputs": [
    {
     "name": "stderr",
     "output_type": "stream",
     "text": [
      "/opt/homebrew/Caskroom/miniconda/base/envs/llm_venv/lib/python3.12/site-packages/transformers/tokenization_utils_base.py:1601: FutureWarning: `clean_up_tokenization_spaces` was not set. It will be set to `True` by default. This behavior will be depracted in transformers v4.45, and will be then set to `False` by default. For more details check this issue: https://github.com/huggingface/transformers/issues/31884\n",
      "  warnings.warn(\n"
     ]
    }
   ],
   "source": [
    "embeddings = HuggingFaceEmbeddings(model_name=\"multi-qa-MiniLM-L6-cos-v1\")"
   ]
  },
  {
   "cell_type": "code",
   "execution_count": 16,
   "id": "20e8566b-019a-4172-aef1-798716734cca",
   "metadata": {},
   "outputs": [],
   "source": [
    "# will return keyword search dictionary and vector search dictionary\n",
    "\n",
    "def hybrid_query(search_query: str) -> Dict:\n",
    "    vector = embeddings.embed_query(search_query)  # same embeddings as for indexing\n",
    "    \n",
    "    return {\n",
    "        \"query\": {\n",
    "            \"bool\": {\n",
    "                \"must\": {\n",
    "                    \"multi_match\": {\n",
    "                        \"query\": search_query,\n",
    "                        \"fields\": [\"page_content\", \"header_1\", \"header_2\", \"header_3\", \"header_4\", \"header_5\"],\n",
    "                        \"type\": \"best_fields\",\n",
    "                        \"boost\": 0.5,\n",
    "                    }\n",
    "                },\n",
    "            }\n",
    "        },\n",
    "        \"knn\": {\n",
    "            \"field\": \"combined_vector\",\n",
    "            \"query_vector\": vector,\n",
    "            \"k\": 5,\n",
    "            \"num_candidates\": 10000,\n",
    "            \"boost\": 0.5,\n",
    "        },\n",
    "        \"size\": 5, # output the size\n",
    "    }"
   ]
  },
  {
   "cell_type": "code",
   "execution_count": 17,
   "id": "1e3e3e90-79b6-444b-9b99-a2ab19252256",
   "metadata": {},
   "outputs": [],
   "source": [
    "hybrid_retriever = ElasticsearchRetriever.from_es_params(\n",
    "    index_name=index_name,\n",
    "    body_func=hybrid_query,\n",
    "    content_field='page_content',\n",
    "    url=es_url,\n",
    ")"
   ]
  },
  {
   "cell_type": "code",
   "execution_count": 18,
   "id": "8d27a58a-e032-4954-a449-6426c44d9ccd",
   "metadata": {},
   "outputs": [],
   "source": [
    "# produces the results => list of the answers\n",
    "hybrid_results = hybrid_retriever.invoke(query)"
   ]
  },
  {
   "cell_type": "code",
   "execution_count": 19,
   "id": "6826ded0-795f-4cc2-8a39-5c6ccb76ce4d",
   "metadata": {},
   "outputs": [
    {
     "name": "stdout",
     "output_type": "stream",
     "text": [
      "**How to Contribute to Hack for LA** **Part 3: Pull Requests** **3.1 How to make a pull request** **3.1.b Complete pull request on Hack for LA `website` repo** **vi. After pull request is submitted/merged** 9.00024\n",
      "**How to Contribute to Hack for LA** **Part 2: How the Website team works with GitHub issues** **2.3 Where can I find GitHub issues to work on?**   7.21489\n",
      "**How to Contribute to Hack for LA** **Part 2: How the Website team works with GitHub issues** **2.3 Where can I find GitHub issues to work on?** **2.3.a Available issues for new members**  7.202876\n",
      "**How to Contribute to Hack for LA** **Part 2: How the Website team works with GitHub issues** **2.3 Where can I find GitHub issues to work on?** **2.3.d What if you see bugs/errors that are not connected to an issue?**  7.1937537\n",
      "**How to Contribute to Hack for LA** **Part 2: How the Website team works with GitHub issues** **2.3 Where can I find GitHub issues to work on?** **2.3.b Available issues for returning members**  7.189423\n"
     ]
    }
   ],
   "source": [
    "# print(hybrid_results[0].metadata['_source'])\n",
    "\n",
    "for result in hybrid_results:\n",
    "    print(result.metadata['_source']['header_1'],\n",
    "          result.metadata['_source']['header_2'],\n",
    "          result.metadata['_source']['header_3'],\n",
    "          result.metadata['_source'].get('header_4', ''),\n",
    "          result.metadata['_source'].get('header_5', ''),\n",
    "          result.metadata['_score']\n",
    "         )"
   ]
  },
  {
   "cell_type": "code",
   "execution_count": 20,
   "id": "6560c72f-8945-4f6f-9c0b-1d2b6a03d53b",
   "metadata": {},
   "outputs": [
    {
     "name": "stdout",
     "output_type": "stream",
     "text": [
      "**NOTE**: After completing your assignment and committing all of the changes, you must leave your current branch and return to the `gh-pages` branch.  \n",
      "Run the following command to return to the `gh-pages` branch:  \n",
      "```bash\n",
      "git checkout `gh-pages`\n",
      "```\n",
      "Once your pull request is merged you can delete your branch with the following command:  \n",
      "```bash\n",
      "git branch -d update-give-link-2093\n",
      "```  \n",
      "Now you are all set to work on a new PR. Start over at [**2.3 Where can I find GitHub issues to work on?**](#23-where-can-i-find-github-issues-to-work-on) and repeat completing parts 2 and 3.\n"
     ]
    }
   ],
   "source": [
    "print(hybrid_results[0].page_content)"
   ]
  },
  {
   "cell_type": "markdown",
   "id": "403c66c4-0d19-4afa-98a3-1663796455a3",
   "metadata": {},
   "source": [
    "## Hybrid Search"
   ]
  },
  {
   "cell_type": "code",
   "execution_count": 21,
   "id": "491d5183-2569-45db-85c6-9fde4c76833b",
   "metadata": {},
   "outputs": [],
   "source": [
    "df_ground_truth = pd.read_csv('./data/ground-truth-retrieval.csv')"
   ]
  },
  {
   "cell_type": "code",
   "execution_count": 22,
   "id": "c2dfb74c-154a-43ed-ae4f-b84f87db9683",
   "metadata": {},
   "outputs": [],
   "source": [
    "ground_truth = df_ground_truth.to_dict(orient='records')"
   ]
  },
  {
   "cell_type": "code",
   "execution_count": 23,
   "id": "d7f28583-d3db-4bc6-8db3-3c3a80cef765",
   "metadata": {},
   "outputs": [],
   "source": [
    "def hit_rate(relevance_total):\n",
    "    cnt = 0\n",
    "\n",
    "    for line in relevance_total:\n",
    "        if True in line:\n",
    "            cnt = cnt + 1\n",
    "\n",
    "    return cnt / len(relevance_total)"
   ]
  },
  {
   "cell_type": "code",
   "execution_count": 24,
   "id": "895b3572-3add-4006-a1fe-f4ae8a0c0c7c",
   "metadata": {},
   "outputs": [],
   "source": [
    "def mrr(relevance_total):\n",
    "    total_score = 0.0\n",
    "\n",
    "    for line in relevance_total:\n",
    "        for rank in range(len(line)):\n",
    "            if line[rank] == True:\n",
    "                total_score = total_score + 1 / (rank + 1)\n",
    "\n",
    "    return total_score / len(relevance_total)"
   ]
  },
  {
   "cell_type": "code",
   "execution_count": 25,
   "id": "cea407d1-a8d6-4a4c-8b0c-d6fd330f17dd",
   "metadata": {},
   "outputs": [],
   "source": [
    "def elastic_search_hybrid(field, query):\n",
    "    def hybrid_query(search_query: str) -> Dict:\n",
    "        vector = embeddings.embed_query(search_query)\n",
    "        \n",
    "        return {\n",
    "            \"query\": {\n",
    "                \"bool\": {\n",
    "                    \"must\": {\n",
    "                        \"multi_match\": {\n",
    "                            \"query\": search_query,\n",
    "                            \"fields\": [\"page_content\", \"header_1\", \"header_2\", \"header_3\", \"header_4\", \"header_5\"],\n",
    "                            \"type\": \"best_fields\",\n",
    "                            \"boost\": 0.3,\n",
    "                        }\n",
    "                    },\n",
    "                }\n",
    "            },\n",
    "            \"knn\": {\n",
    "                \"field\": field,\n",
    "                \"query_vector\": vector,\n",
    "                \"k\": 5,\n",
    "                \"num_candidates\": 1000,\n",
    "                \"boost\": 5,\n",
    "            },\n",
    "            \"size\": 5,\n",
    "            \"_source\": [\"page_content\", \"header_1\", \"header_2\", \"header_3\", \"header_4\", \"header_5\", \"id\"],\n",
    "        }\n",
    "    \n",
    "    \n",
    "    hybrid_retriever = ElasticsearchRetriever.from_es_params(\n",
    "        index_name=index_name,\n",
    "        body_func=hybrid_query,\n",
    "        content_field='page_content',\n",
    "        url=es_url,\n",
    "    )\n",
    "\n",
    "    hybrid_results = hybrid_retriever.invoke(query)\n",
    "    \n",
    "    result_docs = []\n",
    "    \n",
    "    for hit in hybrid_results:\n",
    "        result_docs.append(hit.metadata['_source'])\n",
    "\n",
    "    return result_docs"
   ]
  },
  {
   "cell_type": "code",
   "execution_count": 26,
   "id": "98cbb190-1f7e-4f87-8c39-600264bc7d2c",
   "metadata": {},
   "outputs": [],
   "source": [
    "question = ground_truth[0]['question']"
   ]
  },
  {
   "cell_type": "code",
   "execution_count": 27,
   "id": "75a23f3c-1c6d-4d7b-8619-cf1b245ff479",
   "metadata": {},
   "outputs": [
    {
     "name": "stdout",
     "output_type": "stream",
     "text": [
      "How do I request access to the Hack for LA website GitHub repository?\n"
     ]
    }
   ],
   "source": [
    "print(question)"
   ]
  },
  {
   "cell_type": "code",
   "execution_count": 28,
   "id": "4c62f6bf-0400-4286-9b6a-bfb95f4c2718",
   "metadata": {},
   "outputs": [
    {
     "data": {
      "text/plain": [
       "[{'id': '3ba4d080-97a6-4954-829e-121e008c43e9',\n",
       "  'header_1': '**How to Contribute to Hack for LA**',\n",
       "  'header_2': '**Part 1: Setting up the development environment**',\n",
       "  'header_3': '**1.1 Dev setup (1): Join the repository team**'},\n",
       " {'id': '7da5e900-3183-4d40-b0af-021562c21707',\n",
       "  'header_1': '**How to Contribute to Hack for LA**',\n",
       "  'header_2': '**Part 1: Setting up the development environment**',\n",
       "  'header_3': '**1.4 Dev setup (4): Clone (Create) a copy on your computer**',\n",
       "  'header_4': '**1.4.c What if you accidentally cloned using the repository URL from the HackForLA Github (instead of the fork on your Github)?**',\n",
       "  'header_5': '**i. Resolve remote (1): reset `origin` remote url**'},\n",
       " {'id': '729f9112-7dc4-4ad3-91c0-498578f7df13',\n",
       "  'header_1': '**How to Contribute to Hack for LA**',\n",
       "  'header_2': '**Part 1: Setting up the development environment**',\n",
       "  'header_3': '**1.4 Dev setup (4): Clone (Create) a copy on your computer**',\n",
       "  'header_4': '**1.4.c What if you accidentally cloned using the repository URL from the HackForLA Github (instead of the fork on your Github)?**',\n",
       "  'header_5': '**ii. Resolve remote (2): Add an `upstream` remote**'},\n",
       " {'id': '462ffe2a-11fc-4f51-b733-04e3803c5836',\n",
       "  'header_1': '**How to Contribute to Hack for LA**',\n",
       "  'header_2': '**Part 2: How the Website team works with GitHub issues**',\n",
       "  'header_3': '**2.7 Working on an issue**',\n",
       "  'header_4': '**2.7.f Working on an issue (6): Handling SSH authorization errors**'},\n",
       " {'id': '260c1b9c-1145-41dd-87ae-738df7db47b1',\n",
       "  'header_1': '**How to Contribute to Hack for LA**',\n",
       "  'header_2': '**Part 2: How the Website team works with GitHub issues**',\n",
       "  'header_3': '**2.4 Claiming an Issue**',\n",
       "  'header_4': '**2.4.a Assign & Unassign yourself to this issue**'}]"
      ]
     },
     "execution_count": 28,
     "metadata": {},
     "output_type": "execute_result"
    }
   ],
   "source": [
    "elastic_search_hybrid(\"combined_vector\", question)"
   ]
  },
  {
   "cell_type": "code",
   "execution_count": 29,
   "id": "e32ef9d7-079c-408f-8317-637a1d5e6439",
   "metadata": {},
   "outputs": [],
   "source": [
    "def question_text_hybrid(q):\n",
    "    question = q['question']\n",
    "\n",
    "    return elastic_search_hybrid('combined_vector', question)"
   ]
  },
  {
   "cell_type": "code",
   "execution_count": 30,
   "id": "f484b01c-1e5f-4ce2-9205-eb7934b314a3",
   "metadata": {},
   "outputs": [],
   "source": [
    "def evaluate(ground_truth, search_function):\n",
    "    relevance_total = []\n",
    "    \n",
    "    # relevance is matching the id from the questions to the id in the documents\n",
    "    for q in tqdm(ground_truth):\n",
    "        doc_id = q['id']\n",
    "        results = search_function(q)\n",
    "        relevance = [d['id'] == doc_id for d in results]\n",
    "        \n",
    "        relevance_total.append(relevance)\n",
    "\n",
    "    return {\n",
    "        'hit_rate': hit_rate(relevance_total),\n",
    "        'mrr': mrr(relevance_total),\n",
    "    }"
   ]
  },
  {
   "cell_type": "code",
   "execution_count": 31,
   "id": "933e3b45-27d8-4fe3-a1cb-bec4194deb32",
   "metadata": {},
   "outputs": [
    {
     "data": {
      "application/vnd.jupyter.widget-view+json": {
       "model_id": "c5a48de15dca4182bef1db0086eba299",
       "version_major": 2,
       "version_minor": 0
      },
      "text/plain": [
       "  0%|          | 0/242 [00:00<?, ?it/s]"
      ]
     },
     "metadata": {},
     "output_type": "display_data"
    },
    {
     "data": {
      "text/plain": [
       "{'hit_rate': 0.8925619834710744, 'mrr': 0.7353305785123967}"
      ]
     },
     "execution_count": 31,
     "metadata": {},
     "output_type": "execute_result"
    }
   ],
   "source": [
    "evaluate(ground_truth, question_text_hybrid)"
   ]
  },
  {
   "cell_type": "markdown",
   "id": "5ee0904b-e498-4bb5-b000-2bb8457565fa",
   "metadata": {},
   "source": [
    "## Hybrid Search with RRF / ElasticSearch"
   ]
  },
  {
   "cell_type": "code",
   "execution_count": 32,
   "id": "3d4b1d80-4054-4b86-99da-d89918a48e20",
   "metadata": {},
   "outputs": [],
   "source": [
    "def compute_rrf(rank, k=60):\n",
    "    \"\"\" Own implementation of the relevance score \"\"\"\n",
    "    \n",
    "    return 1 / (k + rank)"
   ]
  },
  {
   "cell_type": "code",
   "execution_count": 98,
   "id": "7bbb3c7d-f5b1-4f02-8224-484d80903a2e",
   "metadata": {},
   "outputs": [],
   "source": [
    "def elastic_search_hybrid_rrf(field, query, vector, k=60):\n",
    "    knn_query = {\n",
    "        \"knn\": {\n",
    "            \"field\": field,\n",
    "            \"query_vector\": vector,\n",
    "            \"k\": 10,\n",
    "            \"num_candidates\": 1000,\n",
    "            \"boost\": 0.5,\n",
    "        },\n",
    "        \"size\": 10\n",
    "    }\n",
    "    \n",
    "    keyword_query = {\n",
    "        \"query\": {\n",
    "            \"multi_match\": {\n",
    "                \"query\": query,\n",
    "                \"fields\": [\"page_content^2\", \"header_1\", \"header_2\", \"header_3\", \"header_4\", \"header_5\"],\n",
    "                \"type\": \"best_fields\",\n",
    "                \"boost\": 0.5,\n",
    "            }\n",
    "        },\n",
    "        \"size\": 10\n",
    "    }\n",
    "    \n",
    "    # Perform searches\n",
    "    knn_results = es_client.search(index=index_name, body=knn_query)['hits']['hits']\n",
    "    keyword_results = es_client.search(index=index_name, body=keyword_query)['hits']['hits']\n",
    "    \n",
    "    # Apply RRF\n",
    "    rrf_scores = {}\n",
    "    \n",
    "    for rank, hit in enumerate(knn_results):\n",
    "        doc_id = hit['_id']\n",
    "        rrf_scores[doc_id] = compute_rrf(rank + 1, k)\n",
    "    \n",
    "    for rank, hit in enumerate(keyword_results):\n",
    "        doc_id = hit['_id']\n",
    "        \n",
    "        if doc_id in rrf_scores:\n",
    "            rrf_scores[doc_id] += compute_rrf(rank + 1, k)\n",
    "        else:\n",
    "            rrf_scores[doc_id] = compute_rrf(rank + 1, k)\n",
    "    \n",
    "    # Sort and get top results\n",
    "    reranked_docs = sorted(rrf_scores.items(), key=lambda x: x[1], reverse=True)\n",
    "    \n",
    "    final_results = []\n",
    "    \n",
    "    for doc_id, score in reranked_docs[:5]:\n",
    "        doc = es_client.get(index=index_name, id=doc_id)\n",
    "        \n",
    "        final_results.append(doc['_source'])\n",
    "\n",
    "\n",
    "    return final_results"
   ]
  },
  {
   "cell_type": "code",
   "execution_count": 34,
   "id": "e8b42773-a55a-4392-b53f-e70291221e14",
   "metadata": {},
   "outputs": [],
   "source": [
    "def question_text_hybrid_rrf(q):\n",
    "    question = q['question']\n",
    "    v_q = model.encode(question)\n",
    "\n",
    "    return elastic_search_hybrid_rrf('page_content_vector', question, v_q)"
   ]
  },
  {
   "cell_type": "code",
   "execution_count": 35,
   "id": "5d111a35-4d23-4563-80b6-24293770d139",
   "metadata": {},
   "outputs": [
    {
     "data": {
      "application/vnd.jupyter.widget-view+json": {
       "model_id": "34c8e73e76374da9991ecb26ea5024d8",
       "version_major": 2,
       "version_minor": 0
      },
      "text/plain": [
       "  0%|          | 0/242 [00:00<?, ?it/s]"
      ]
     },
     "metadata": {},
     "output_type": "display_data"
    },
    {
     "data": {
      "text/plain": [
       "{'hit_rate': 0.8966942148760331, 'mrr': 0.719077134986226}"
      ]
     },
     "execution_count": 35,
     "metadata": {},
     "output_type": "execute_result"
    }
   ],
   "source": [
    "evaluate(ground_truth, question_text_hybrid_rrf)"
   ]
  },
  {
   "cell_type": "markdown",
   "id": "337319ac-e2e0-4f94-b875-305898486c64",
   "metadata": {},
   "source": [
    "## RAG Flow"
   ]
  },
  {
   "cell_type": "code",
   "execution_count": 36,
   "id": "7c9b96e1-3654-4762-8229-bfb82d35598f",
   "metadata": {},
   "outputs": [],
   "source": [
    "client = anthropic.Anthropic()"
   ]
  },
  {
   "cell_type": "code",
   "execution_count": 37,
   "id": "5a114948-ff2a-44be-adae-506c3e3153d9",
   "metadata": {},
   "outputs": [],
   "source": [
    "def search_hyrid_rrf(q):\n",
    "    v_q = model.encode(q)\n",
    "\n",
    "    return elastic_search_hybrid_rrf('page_content_vector', q, v_q)"
   ]
  },
  {
   "cell_type": "code",
   "execution_count": 38,
   "id": "9a4519bc-51a8-418e-94a6-4e499edbdcfd",
   "metadata": {},
   "outputs": [],
   "source": [
    "prompt_template = \"\"\"\n",
    "You're an assistant to an open source software engineering project on github. Answer the QUESTION based on\n",
    "the CONTEXT from our contributor FAQ database.\n",
    "Use only the facts and relevant hyperlinks, if any, from the CONTEXT when answering the QUESTION.\n",
    "\n",
    "QUESTION: {question}\n",
    "\n",
    "CONTEXT:\n",
    "{context}\n",
    "\"\"\".strip()\n",
    "\n",
    "entry_template = \"\"\"\n",
    "page_content: {page_content}\n",
    "\"\"\".strip()"
   ]
  },
  {
   "cell_type": "code",
   "execution_count": 39,
   "id": "a6dd83bd-2a95-48fa-bedd-9574b0d21e22",
   "metadata": {},
   "outputs": [],
   "source": [
    "def build_prompt(query, search_results):\n",
    "    context = \"\"\n",
    "    \n",
    "    for doc in search_results:\n",
    "        context = context + entry_template.format(**doc) + \"\\n\\n\"\n",
    "\n",
    "    prompt = prompt_template.format(question=query, context=context).strip()\n",
    "    \n",
    "    return prompt"
   ]
  },
  {
   "cell_type": "code",
   "execution_count": 40,
   "id": "c5d928bf-cbe9-4ccc-8f6b-9dd8bb8bd57c",
   "metadata": {},
   "outputs": [],
   "source": [
    "def llm(prompt):\n",
    "    response = client.messages.create(\n",
    "        model=\"claude-3-5-sonnet-20240620\",\n",
    "        max_tokens=1024,\n",
    "        messages=[\n",
    "            {\"role\": \"user\", \"content\": prompt}\n",
    "        ]\n",
    "    )\n",
    "\n",
    "    # print('token usage: ', response.usage) # get tokens info\n",
    "    # print('==============================')\n",
    "    return response.content[0].text"
   ]
  },
  {
   "cell_type": "code",
   "execution_count": 41,
   "id": "e6ae1c6e-6b58-4703-a420-a6b885dc98bc",
   "metadata": {},
   "outputs": [],
   "source": [
    "def rag(query):\n",
    "    search_results = search_hyrid_rrf(query)\n",
    "    prompt = build_prompt(query, search_results)\n",
    "    answer = llm(prompt)\n",
    "\n",
    "    return answer"
   ]
  },
  {
   "cell_type": "code",
   "execution_count": 42,
   "id": "730a9747-972f-422e-941c-97306b8659cc",
   "metadata": {},
   "outputs": [
    {
     "name": "stdout",
     "output_type": "stream",
     "text": [
      "The best way to find GitHub issues to work on is through Hack for LA's GitHub Project Board. Here are the key points:\n",
      "\n",
      "1. Visit the [GitHub Project Board](https://github.com/orgs/hackforla/projects/86).\n",
      "\n",
      "2. Focus on the `Prioritized Backlog` column, which contains approved and prioritized issues.\n",
      "\n",
      "3. The issues in this column are filtered so that the topmost issue has the highest priority and should be worked on next.\n",
      "\n",
      "4. For newcomers or those looking for simpler tasks, you can use the [`good first issues`](https://github.com/orgs/hackforla/projects/86/views/2) link to display beginner-friendly issues for both front-end and back-end roles in the Prioritized Backlog column.\n",
      "\n",
      "Remember to check the Project Board regularly, as it's the primary source for available and prioritized tasks.\n"
     ]
    }
   ],
   "source": [
    "answer = rag(query)\n",
    "\n",
    "print(answer)"
   ]
  },
  {
   "cell_type": "markdown",
   "id": "7bdccd89-f5bd-48ec-b44a-c59704a406bd",
   "metadata": {},
   "source": [
    "## RAG Evaluation - LLM as a Judge (Claude 3.5 Sonnet)"
   ]
  },
  {
   "cell_type": "code",
   "execution_count": 43,
   "id": "c0dc5f28-b0fb-4f54-be4b-ee32192adb5f",
   "metadata": {},
   "outputs": [],
   "source": [
    "prompt2_template = \"\"\"\n",
    "You are an expert evaluator for a RAG system.\n",
    "Your task is to analyze the relevance of the generated answer to the given question.\n",
    "Based on the relevance of the generated answer, you will classify it\n",
    "as \"NON_RELEVANT\", \"PARTLY_RELEVANT\", or \"RELEVANT\".\n",
    "\n",
    "Here is the data for evaluation:\n",
    "\n",
    "Question: {question}\n",
    "Generated Answer: {answer_llm}\n",
    "\n",
    "Please analyze the content and context of the generated answer in relation to the question\n",
    "and provide your evaluation in parsable JSON without using code blocks:\n",
    "\n",
    "{{\n",
    "  \"Relevance\": \"NON_RELEVANT\" | \"PARTLY_RELEVANT\" | \"RELEVANT\",\n",
    "  \"Explanation\": \"[Provide a brief explanation for your evaluation]\"\n",
    "}}\n",
    "\"\"\".strip()"
   ]
  },
  {
   "cell_type": "code",
   "execution_count": 44,
   "id": "8c259468-286e-480b-a81e-814f625b00d4",
   "metadata": {},
   "outputs": [
    {
     "data": {
      "text/plain": [
       "242"
      ]
     },
     "execution_count": 44,
     "metadata": {},
     "output_type": "execute_result"
    }
   ],
   "source": [
    "len(ground_truth)"
   ]
  },
  {
   "cell_type": "code",
   "execution_count": 45,
   "id": "0b0ebded-462a-4b57-83b4-083755c3cdff",
   "metadata": {},
   "outputs": [
    {
     "name": "stdout",
     "output_type": "stream",
     "text": [
      "Question:  How do I create a copy of the Hack for LA website repository on my GitHub account?\n"
     ]
    }
   ],
   "source": [
    "record = ground_truth[10]['question']\n",
    "\n",
    "print('Question: ', record)"
   ]
  },
  {
   "cell_type": "code",
   "execution_count": 46,
   "id": "d8424833-bf51-47f3-856e-893171f8b5f6",
   "metadata": {},
   "outputs": [
    {
     "name": "stdout",
     "output_type": "stream",
     "text": [
      "To create a copy of the Hack for LA website repository on your GitHub account, you need to fork the repository. Here's how you can do it:\n",
      "\n",
      "1. Go to the hackforla/website repository on GitHub.\n",
      "\n",
      "2. Click on the \"Fork\" button located at the top right corner of the page. You can find it here: <a href=\"https://github.com/hackforla/website/fork\"><button><img src=\"https://user-images.githubusercontent.com/17777237/54873012-40fa5b00-4dd6-11e9-98e0-cc436426c720.png\" width=\"8px\"> Fork</button></a>\n",
      "\n",
      "3. If prompted, select where you want to fork the repository (usually your personal GitHub account).\n",
      "\n",
      "4. GitHub will create a copy of the repository under your account. The new URL will look like this: `https://github.com/<your_GitHub_user_name>/website`\n",
      "\n",
      "It's important to note that this creates a remote copy of the repository on your GitHub account. It is not yet on your local machine.\n",
      "\n",
      "After forking, you should also:\n",
      "\n",
      "1. Make your Hack for LA GitHub organization membership public by following this [guide](https://help.github.com/en/articles/publicizing-or-hiding-organization-membership#changing-the-visibility-of-your-organization-membership).\n",
      "\n",
      "2. Set up two-factor authentication on your GitHub account by following this [guide](https://docs.github.com/en/github/authenticating-to-github/configuring-two-factor-authentication).\n",
      "\n",
      "Remember to keep your forked repository in sync with the main Hack for LA website repository by using the \"Sync Fork\" feature on GitHub or by pulling changes from the upstream repository when working locally.\n"
     ]
    }
   ],
   "source": [
    "answer_llm = rag(record)\n",
    "\n",
    "print(answer_llm)"
   ]
  },
  {
   "cell_type": "code",
   "execution_count": 47,
   "id": "05172ab8-6725-4063-bf15-4dfbf360ce9e",
   "metadata": {},
   "outputs": [],
   "source": [
    "prompt = prompt2_template.format(question=record, answer_llm=answer_llm)"
   ]
  },
  {
   "cell_type": "code",
   "execution_count": 48,
   "id": "978e3796-1aca-4385-bb0d-1692129f93ea",
   "metadata": {},
   "outputs": [
    {
     "name": "stdout",
     "output_type": "stream",
     "text": [
      "You are an expert evaluator for a RAG system.\n",
      "Your task is to analyze the relevance of the generated answer to the given question.\n",
      "Based on the relevance of the generated answer, you will classify it\n",
      "as \"NON_RELEVANT\", \"PARTLY_RELEVANT\", or \"RELEVANT\".\n",
      "\n",
      "Here is the data for evaluation:\n",
      "\n",
      "Question: How do I create a copy of the Hack for LA website repository on my GitHub account?\n",
      "Generated Answer: To create a copy of the Hack for LA website repository on your GitHub account, you need to fork the repository. Here's how you can do it:\n",
      "\n",
      "1. Go to the hackforla/website repository on GitHub.\n",
      "\n",
      "2. Click on the \"Fork\" button located at the top right corner of the page. You can find it here: <a href=\"https://github.com/hackforla/website/fork\"><button><img src=\"https://user-images.githubusercontent.com/17777237/54873012-40fa5b00-4dd6-11e9-98e0-cc436426c720.png\" width=\"8px\"> Fork</button></a>\n",
      "\n",
      "3. If prompted, select where you want to fork the repository (usually your personal GitHub account).\n",
      "\n",
      "4. GitHub will create a copy of the repository under your account. The new URL will look like this: `https://github.com/<your_GitHub_user_name>/website`\n",
      "\n",
      "It's important to note that this creates a remote copy of the repository on your GitHub account. It is not yet on your local machine.\n",
      "\n",
      "After forking, you should also:\n",
      "\n",
      "1. Make your Hack for LA GitHub organization membership public by following this [guide](https://help.github.com/en/articles/publicizing-or-hiding-organization-membership#changing-the-visibility-of-your-organization-membership).\n",
      "\n",
      "2. Set up two-factor authentication on your GitHub account by following this [guide](https://docs.github.com/en/github/authenticating-to-github/configuring-two-factor-authentication).\n",
      "\n",
      "Remember to keep your forked repository in sync with the main Hack for LA website repository by using the \"Sync Fork\" feature on GitHub or by pulling changes from the upstream repository when working locally.\n",
      "\n",
      "Please analyze the content and context of the generated answer in relation to the question\n",
      "and provide your evaluation in parsable JSON without using code blocks:\n",
      "\n",
      "{\n",
      "  \"Relevance\": \"NON_RELEVANT\" | \"PARTLY_RELEVANT\" | \"RELEVANT\",\n",
      "  \"Explanation\": \"[Provide a brief explanation for your evaluation]\"\n",
      "}\n"
     ]
    }
   ],
   "source": [
    "print(prompt)"
   ]
  },
  {
   "cell_type": "code",
   "execution_count": 49,
   "id": "32d9ebed-6a14-4c5d-9540-77e2a51214d2",
   "metadata": {},
   "outputs": [],
   "source": [
    "answer_test = llm(prompt)"
   ]
  },
  {
   "cell_type": "code",
   "execution_count": 62,
   "id": "395319da-655a-4ecd-a2af-ca8acd80cf93",
   "metadata": {},
   "outputs": [
    {
     "data": {
      "text/plain": [
       "{'Relevance': 'RELEVANT',\n",
       " 'Explanation': \"The generated answer directly addresses the question by providing a step-by-step guide on how to create a copy (fork) of the Hack for LA website repository on the user's GitHub account. It includes specific instructions, the correct repository name, and even provides additional relevant information such as making organization membership public and setting up two-factor authentication. The answer is comprehensive and precisely tailored to the question asked.\"}"
      ]
     },
     "execution_count": 62,
     "metadata": {},
     "output_type": "execute_result"
    }
   ],
   "source": [
    "json.loads(answer_test)\n",
    "\n",
    "# print(answer_test)"
   ]
  },
  {
   "cell_type": "code",
   "execution_count": 53,
   "id": "c554277a-514f-44a8-b6af-68a05787755d",
   "metadata": {},
   "outputs": [],
   "source": [
    "df_sample = df_ground_truth.sample(n=100, random_state=1)"
   ]
  },
  {
   "cell_type": "code",
   "execution_count": 54,
   "id": "4467ce31-b508-4761-930e-8f1795ecbb80",
   "metadata": {},
   "outputs": [
    {
     "data": {
      "text/html": [
       "<div>\n",
       "<style scoped>\n",
       "    .dataframe tbody tr th:only-of-type {\n",
       "        vertical-align: middle;\n",
       "    }\n",
       "\n",
       "    .dataframe tbody tr th {\n",
       "        vertical-align: top;\n",
       "    }\n",
       "\n",
       "    .dataframe thead th {\n",
       "        text-align: right;\n",
       "    }\n",
       "</style>\n",
       "<table border=\"1\" class=\"dataframe\">\n",
       "  <thead>\n",
       "    <tr style=\"text-align: right;\">\n",
       "      <th></th>\n",
       "      <th>id</th>\n",
       "      <th>question</th>\n",
       "    </tr>\n",
       "  </thead>\n",
       "  <tbody>\n",
       "    <tr>\n",
       "      <th>67</th>\n",
       "      <td>7900ab8b-86e3-4a25-94d6-568f12529a0f</td>\n",
       "      <td>How are the issues in the Prioritized Backlog ...</td>\n",
       "    </tr>\n",
       "    <tr>\n",
       "      <th>241</th>\n",
       "      <td>ae00f395-3da6-4329-b048-d34236f2f76e</td>\n",
       "      <td>Are there any official guides or documentation...</td>\n",
       "    </tr>\n",
       "    <tr>\n",
       "      <th>205</th>\n",
       "      <td>a0235484-04f5-4db2-8fe1-5679fd0d9659</td>\n",
       "      <td>Are there any guidelines for summarizing the p...</td>\n",
       "    </tr>\n",
       "    <tr>\n",
       "      <th>122</th>\n",
       "      <td>5e6a3d13-236b-4a65-928a-a123ee8eefe5</td>\n",
       "      <td>How do I update my gh-pages branch with the la...</td>\n",
       "    </tr>\n",
       "    <tr>\n",
       "      <th>89</th>\n",
       "      <td>8fa8f710-1645-40d3-a6c4-22f5c6db766b</td>\n",
       "      <td>What steps should I follow to claim a task in ...</td>\n",
       "    </tr>\n",
       "  </tbody>\n",
       "</table>\n",
       "</div>"
      ],
      "text/plain": [
       "                                       id  \\\n",
       "67   7900ab8b-86e3-4a25-94d6-568f12529a0f   \n",
       "241  ae00f395-3da6-4329-b048-d34236f2f76e   \n",
       "205  a0235484-04f5-4db2-8fe1-5679fd0d9659   \n",
       "122  5e6a3d13-236b-4a65-928a-a123ee8eefe5   \n",
       "89   8fa8f710-1645-40d3-a6c4-22f5c6db766b   \n",
       "\n",
       "                                              question  \n",
       "67   How are the issues in the Prioritized Backlog ...  \n",
       "241  Are there any official guides or documentation...  \n",
       "205  Are there any guidelines for summarizing the p...  \n",
       "122  How do I update my gh-pages branch with the la...  \n",
       "89   What steps should I follow to claim a task in ...  "
      ]
     },
     "execution_count": 54,
     "metadata": {},
     "output_type": "execute_result"
    }
   ],
   "source": [
    "df_sample.head()"
   ]
  },
  {
   "cell_type": "code",
   "execution_count": 55,
   "id": "54b2dd0f-29e7-49df-9411-504ddb3efe86",
   "metadata": {},
   "outputs": [],
   "source": [
    "sample = df_sample.to_dict(orient='records')"
   ]
  },
  {
   "cell_type": "code",
   "execution_count": 56,
   "id": "6b6c69c3-7253-4eaf-862c-136c70453259",
   "metadata": {},
   "outputs": [
    {
     "name": "stdout",
     "output_type": "stream",
     "text": [
      "[{'id': '7900ab8b-86e3-4a25-94d6-568f12529a0f', 'question': 'How are the issues in the Prioritized Backlog column organized, and why is this important for contributors?'}, {'id': 'ae00f395-3da6-4329-b048-d34236f2f76e', 'question': 'Are there any official guides or documentation for setting up Docker and Docker Compose in our development environment?'}, {'id': 'a0235484-04f5-4db2-8fe1-5679fd0d9659', 'question': 'Are there any guidelines for summarizing the purpose and impact of changes made in a pull request for updating project information on the Hack for LA website?'}]\n"
     ]
    }
   ],
   "source": [
    "print(sample[:3])"
   ]
  },
  {
   "cell_type": "code",
   "execution_count": 63,
   "id": "6c124050-a3f2-4dbe-927e-d9d487bc9c4a",
   "metadata": {},
   "outputs": [
    {
     "data": {
      "application/vnd.jupyter.widget-view+json": {
       "model_id": "5d9906f66c344d7c8187f2e2f78e5aef",
       "version_major": 2,
       "version_minor": 0
      },
      "text/plain": [
       "  0%|          | 0/100 [00:00<?, ?it/s]"
      ]
     },
     "metadata": {},
     "output_type": "display_data"
    }
   ],
   "source": [
    "evaluations = []\n",
    "\n",
    "for record in tqdm(sample):\n",
    "    question = record['question']\n",
    "    answer_llm = rag(question) \n",
    "\n",
    "    prompt = prompt2_template.format(\n",
    "        question=question,\n",
    "        answer_llm=answer_llm\n",
    "    )\n",
    "\n",
    "    evaluation = llm(prompt)\n",
    "\n",
    "    evaluations.append((record, answer_llm, evaluation))"
   ]
  },
  {
   "cell_type": "code",
   "execution_count": 67,
   "id": "2d568970-6e93-4826-aea4-75463c68c660",
   "metadata": {},
   "outputs": [],
   "source": [
    "df_eval = pd.DataFrame(evaluations, columns=['record', 'answer', 'evaluation'])"
   ]
  },
  {
   "cell_type": "code",
   "execution_count": 79,
   "id": "28305026-3397-4173-a862-0064a090e4c5",
   "metadata": {},
   "outputs": [],
   "source": [
    "def safe_parse(item):\n",
    "    if isinstance(item, dict):\n",
    "        return item\n",
    "    try:\n",
    "        return json.loads(item)\n",
    "    except:\n",
    "        return {}"
   ]
  },
  {
   "cell_type": "code",
   "execution_count": 80,
   "id": "481b6258-ed62-4de8-92a3-af00729ab2ad",
   "metadata": {},
   "outputs": [],
   "source": [
    "df_eval['id'] = df_eval.record.apply(lambda d: safe_parse(d).get('id'))\n",
    "df_eval['question'] = df_eval.record.apply(lambda d: safe_parse(d).get('question'))\n",
    "df_eval['relevance'] = df_eval.evaluation.apply(lambda d: safe_parse(d).get('Relevance'))\n",
    "df_eval['explanation'] = df_eval.evaluation.apply(lambda d: safe_parse(d).get('Explanation'))\n",
    "\n",
    "del df_eval['record']\n",
    "del df_eval['evaluation']"
   ]
  },
  {
   "cell_type": "code",
   "execution_count": 81,
   "id": "e0a2618c-f4e0-4c4b-b781-e55772a9b82c",
   "metadata": {
    "scrolled": true
   },
   "outputs": [
    {
     "data": {
      "text/plain": [
       "relevance\n",
       "RELEVANT           0.89\n",
       "PARTLY_RELEVANT    0.10\n",
       "NON_RELEVANT       0.01\n",
       "Name: proportion, dtype: float64"
      ]
     },
     "execution_count": 81,
     "metadata": {},
     "output_type": "execute_result"
    }
   ],
   "source": [
    "df_eval.relevance.value_counts(normalize=True)"
   ]
  },
  {
   "cell_type": "code",
   "execution_count": 82,
   "id": "c3d8623a-db0f-4d15-8f3a-9ca1d092640c",
   "metadata": {},
   "outputs": [],
   "source": [
    "df_eval.to_csv('./data/rag-eval-claude-3-5-sonnet.csv', index=False)"
   ]
  },
  {
   "cell_type": "code",
   "execution_count": 83,
   "id": "18f2c2ce-036e-4a20-8db0-0f4a1e01d2ad",
   "metadata": {},
   "outputs": [
    {
     "data": {
      "text/html": [
       "<div>\n",
       "<style scoped>\n",
       "    .dataframe tbody tr th:only-of-type {\n",
       "        vertical-align: middle;\n",
       "    }\n",
       "\n",
       "    .dataframe tbody tr th {\n",
       "        vertical-align: top;\n",
       "    }\n",
       "\n",
       "    .dataframe thead th {\n",
       "        text-align: right;\n",
       "    }\n",
       "</style>\n",
       "<table border=\"1\" class=\"dataframe\">\n",
       "  <thead>\n",
       "    <tr style=\"text-align: right;\">\n",
       "      <th></th>\n",
       "      <th>answer</th>\n",
       "      <th>id</th>\n",
       "      <th>question</th>\n",
       "      <th>relevance</th>\n",
       "      <th>explanation</th>\n",
       "    </tr>\n",
       "  </thead>\n",
       "  <tbody>\n",
       "    <tr>\n",
       "      <th>0</th>\n",
       "      <td>The issues in the Prioritized Backlog column a...</td>\n",
       "      <td>7900ab8b-86e3-4a25-94d6-568f12529a0f</td>\n",
       "      <td>How are the issues in the Prioritized Backlog ...</td>\n",
       "      <td>RELEVANT</td>\n",
       "      <td>The generated answer directly addresses the qu...</td>\n",
       "    </tr>\n",
       "    <tr>\n",
       "      <th>1</th>\n",
       "      <td>Based on the provided context, here are the of...</td>\n",
       "      <td>ae00f395-3da6-4329-b048-d34236f2f76e</td>\n",
       "      <td>Are there any official guides or documentation...</td>\n",
       "      <td>RELEVANT</td>\n",
       "      <td>The generated answer directly addresses the qu...</td>\n",
       "    </tr>\n",
       "    <tr>\n",
       "      <th>2</th>\n",
       "      <td>Yes, there are guidelines for summarizing the ...</td>\n",
       "      <td>a0235484-04f5-4db2-8fe1-5679fd0d9659</td>\n",
       "      <td>Are there any guidelines for summarizing the p...</td>\n",
       "      <td>RELEVANT</td>\n",
       "      <td>The generated answer directly addresses the qu...</td>\n",
       "    </tr>\n",
       "    <tr>\n",
       "      <th>3</th>\n",
       "      <td>To update your gh-pages branch with the latest...</td>\n",
       "      <td>5e6a3d13-236b-4a65-928a-a123ee8eefe5</td>\n",
       "      <td>How do I update my gh-pages branch with the la...</td>\n",
       "      <td>RELEVANT</td>\n",
       "      <td>The generated answer directly addresses the qu...</td>\n",
       "    </tr>\n",
       "    <tr>\n",
       "      <th>4</th>\n",
       "      <td>To claim a task in the project's GitHub reposi...</td>\n",
       "      <td>8fa8f710-1645-40d3-a6c4-22f5c6db766b</td>\n",
       "      <td>What steps should I follow to claim a task in ...</td>\n",
       "      <td>RELEVANT</td>\n",
       "      <td>The generated answer directly addresses the qu...</td>\n",
       "    </tr>\n",
       "  </tbody>\n",
       "</table>\n",
       "</div>"
      ],
      "text/plain": [
       "                                              answer  \\\n",
       "0  The issues in the Prioritized Backlog column a...   \n",
       "1  Based on the provided context, here are the of...   \n",
       "2  Yes, there are guidelines for summarizing the ...   \n",
       "3  To update your gh-pages branch with the latest...   \n",
       "4  To claim a task in the project's GitHub reposi...   \n",
       "\n",
       "                                     id  \\\n",
       "0  7900ab8b-86e3-4a25-94d6-568f12529a0f   \n",
       "1  ae00f395-3da6-4329-b048-d34236f2f76e   \n",
       "2  a0235484-04f5-4db2-8fe1-5679fd0d9659   \n",
       "3  5e6a3d13-236b-4a65-928a-a123ee8eefe5   \n",
       "4  8fa8f710-1645-40d3-a6c4-22f5c6db766b   \n",
       "\n",
       "                                            question relevance  \\\n",
       "0  How are the issues in the Prioritized Backlog ...  RELEVANT   \n",
       "1  Are there any official guides or documentation...  RELEVANT   \n",
       "2  Are there any guidelines for summarizing the p...  RELEVANT   \n",
       "3  How do I update my gh-pages branch with the la...  RELEVANT   \n",
       "4  What steps should I follow to claim a task in ...  RELEVANT   \n",
       "\n",
       "                                         explanation  \n",
       "0  The generated answer directly addresses the qu...  \n",
       "1  The generated answer directly addresses the qu...  \n",
       "2  The generated answer directly addresses the qu...  \n",
       "3  The generated answer directly addresses the qu...  \n",
       "4  The generated answer directly addresses the qu...  "
      ]
     },
     "execution_count": 83,
     "metadata": {},
     "output_type": "execute_result"
    }
   ],
   "source": [
    "df_eval.head()"
   ]
  },
  {
   "cell_type": "code",
   "execution_count": 84,
   "id": "ba54a977-b5c3-4b13-a249-c58da963d199",
   "metadata": {},
   "outputs": [
    {
     "data": {
      "text/html": [
       "<div>\n",
       "<style scoped>\n",
       "    .dataframe tbody tr th:only-of-type {\n",
       "        vertical-align: middle;\n",
       "    }\n",
       "\n",
       "    .dataframe tbody tr th {\n",
       "        vertical-align: top;\n",
       "    }\n",
       "\n",
       "    .dataframe thead th {\n",
       "        text-align: right;\n",
       "    }\n",
       "</style>\n",
       "<table border=\"1\" class=\"dataframe\">\n",
       "  <thead>\n",
       "    <tr style=\"text-align: right;\">\n",
       "      <th></th>\n",
       "      <th>answer</th>\n",
       "      <th>id</th>\n",
       "      <th>question</th>\n",
       "      <th>relevance</th>\n",
       "      <th>explanation</th>\n",
       "    </tr>\n",
       "  </thead>\n",
       "  <tbody>\n",
       "    <tr>\n",
       "      <th>41</th>\n",
       "      <td>The correct command to clone the Hack for LA w...</td>\n",
       "      <td>ac8e0f36-ea98-4ce0-badc-4b1195f83651</td>\n",
       "      <td>What's the correct command to clone the Hack f...</td>\n",
       "      <td>NON_RELEVANT</td>\n",
       "      <td>The generated answer provides instructions for...</td>\n",
       "    </tr>\n",
       "  </tbody>\n",
       "</table>\n",
       "</div>"
      ],
      "text/plain": [
       "                                               answer  \\\n",
       "41  The correct command to clone the Hack for LA w...   \n",
       "\n",
       "                                      id  \\\n",
       "41  ac8e0f36-ea98-4ce0-badc-4b1195f83651   \n",
       "\n",
       "                                             question     relevance  \\\n",
       "41  What's the correct command to clone the Hack f...  NON_RELEVANT   \n",
       "\n",
       "                                          explanation  \n",
       "41  The generated answer provides instructions for...  "
      ]
     },
     "execution_count": 84,
     "metadata": {},
     "output_type": "execute_result"
    }
   ],
   "source": [
    "df_eval[df_eval.relevance == 'NON_RELEVANT']"
   ]
  },
  {
   "cell_type": "markdown",
   "id": "90542b33-440d-4542-8783-8cf2fbfa9c89",
   "metadata": {},
   "source": [
    "### RAG Evaluation 2: Claude 3 Haiku as LLM as a Judge"
   ]
  },
  {
   "cell_type": "code",
   "execution_count": 85,
   "id": "4d0bbb55-b34c-4821-918c-189ad0757f3f",
   "metadata": {},
   "outputs": [],
   "source": [
    "def llm_haiku(prompt):\n",
    "    response = client.messages.create(\n",
    "        model=\"claude-3-haiku-20240307\",\n",
    "        max_tokens=1024,\n",
    "        messages=[\n",
    "            {\"role\": \"user\", \"content\": prompt}\n",
    "        ]\n",
    "    )\n",
    "\n",
    "    # print('token usage: ', response.usage) # get tokens info\n",
    "    # print('==============================')\n",
    "    return response.content[0].text"
   ]
  },
  {
   "cell_type": "code",
   "execution_count": 86,
   "id": "2022ed53-04b9-4b05-b2d7-6a7037850161",
   "metadata": {},
   "outputs": [],
   "source": [
    "def rag_haiku(query):\n",
    "    search_results = search_hyrid_rrf(query)\n",
    "    prompt = build_prompt(query, search_results)\n",
    "    answer = llm_haiku(prompt)\n",
    "\n",
    "    return answer"
   ]
  },
  {
   "cell_type": "code",
   "execution_count": 87,
   "id": "c9ab3c86-ee93-47a1-89d5-78f3b9863edb",
   "metadata": {},
   "outputs": [
    {
     "data": {
      "application/vnd.jupyter.widget-view+json": {
       "model_id": "bd4564812ca14f069e687a31ff0d2544",
       "version_major": 2,
       "version_minor": 0
      },
      "text/plain": [
       "  0%|          | 0/100 [00:00<?, ?it/s]"
      ]
     },
     "metadata": {},
     "output_type": "display_data"
    }
   ],
   "source": [
    "evaluations_haiku = []\n",
    "\n",
    "for record in tqdm(sample):\n",
    "    question = record['question']\n",
    "    answer_llm = rag_haiku(question) \n",
    "\n",
    "    prompt = prompt2_template.format(\n",
    "        question=question,\n",
    "        answer_llm=answer_llm\n",
    "    )\n",
    "\n",
    "    evaluation = safe_parse(llm_haiku(prompt))\n",
    "    \n",
    "    evaluations_haiku.append((record, answer_llm, evaluation))"
   ]
  },
  {
   "cell_type": "code",
   "execution_count": 90,
   "id": "e5b967d4-78d7-4787-8a7c-22986ca068d5",
   "metadata": {},
   "outputs": [],
   "source": [
    "df_eval_2 = pd.DataFrame(evaluations_haiku, columns=['record', 'answer', 'evaluation'])"
   ]
  },
  {
   "cell_type": "code",
   "execution_count": 92,
   "id": "04335aa8-941b-4a1d-85a5-88444300d33a",
   "metadata": {},
   "outputs": [],
   "source": [
    "df_eval_2['id'] = df_eval_2.record.apply(lambda d: d['id'])\n",
    "df_eval_2['question'] = df_eval_2.record.apply(lambda d: d['question'])\n",
    "\n",
    "df_eval_2['relevance'] = df_eval_2.evaluation.apply(lambda d: d['Relevance'])\n",
    "df_eval_2['explanation'] = df_eval_2.evaluation.apply(lambda d: d['Explanation'])\n",
    "\n",
    "del df_eval_2['record']\n",
    "del df_eval_2['evaluation']"
   ]
  },
  {
   "cell_type": "code",
   "execution_count": 93,
   "id": "641bdfdc-3378-45f8-9742-5dbedb115f73",
   "metadata": {},
   "outputs": [
    {
     "data": {
      "text/plain": [
       "relevance\n",
       "RELEVANT           99\n",
       "PARTLY_RELEVANT     1\n",
       "Name: count, dtype: int64"
      ]
     },
     "execution_count": 93,
     "metadata": {},
     "output_type": "execute_result"
    }
   ],
   "source": [
    "df_eval_2.relevance.value_counts()"
   ]
  },
  {
   "cell_type": "code",
   "execution_count": 94,
   "id": "9b52540a-2681-45f6-bc5c-3325dfe00d9c",
   "metadata": {},
   "outputs": [
    {
     "data": {
      "text/plain": [
       "relevance\n",
       "RELEVANT           0.99\n",
       "PARTLY_RELEVANT    0.01\n",
       "Name: proportion, dtype: float64"
      ]
     },
     "execution_count": 94,
     "metadata": {},
     "output_type": "execute_result"
    }
   ],
   "source": [
    "df_eval_2.relevance.value_counts(normalize=True)"
   ]
  },
  {
   "cell_type": "code",
   "execution_count": 96,
   "id": "0308038f-3322-4e90-ae18-3e0b261628a7",
   "metadata": {},
   "outputs": [],
   "source": [
    "df_eval_2.to_csv('./data/rag-eval-claude-3-haiku.csv', index=False)"
   ]
  },
  {
   "cell_type": "code",
   "execution_count": 97,
   "id": "ebcacfa7-ab2c-4f2b-a3d5-7277e52d2c10",
   "metadata": {},
   "outputs": [
    {
     "data": {
      "text/html": [
       "<div>\n",
       "<style scoped>\n",
       "    .dataframe tbody tr th:only-of-type {\n",
       "        vertical-align: middle;\n",
       "    }\n",
       "\n",
       "    .dataframe tbody tr th {\n",
       "        vertical-align: top;\n",
       "    }\n",
       "\n",
       "    .dataframe thead th {\n",
       "        text-align: right;\n",
       "    }\n",
       "</style>\n",
       "<table border=\"1\" class=\"dataframe\">\n",
       "  <thead>\n",
       "    <tr style=\"text-align: right;\">\n",
       "      <th></th>\n",
       "      <th>answer</th>\n",
       "      <th>id</th>\n",
       "      <th>question</th>\n",
       "      <th>relevance</th>\n",
       "      <th>explanation</th>\n",
       "    </tr>\n",
       "  </thead>\n",
       "  <tbody>\n",
       "    <tr>\n",
       "      <th>0</th>\n",
       "      <td>Based on the information provided in the CONTE...</td>\n",
       "      <td>7900ab8b-86e3-4a25-94d6-568f12529a0f</td>\n",
       "      <td>How are the issues in the Prioritized Backlog ...</td>\n",
       "      <td>RELEVANT</td>\n",
       "      <td>The generated answer provides a comprehensive ...</td>\n",
       "    </tr>\n",
       "    <tr>\n",
       "      <th>1</th>\n",
       "      <td>Based on the information provided in the CONTE...</td>\n",
       "      <td>ae00f395-3da6-4329-b048-d34236f2f76e</td>\n",
       "      <td>Are there any official guides or documentation...</td>\n",
       "      <td>RELEVANT</td>\n",
       "      <td>The generated answer directly addresses the qu...</td>\n",
       "    </tr>\n",
       "    <tr>\n",
       "      <th>2</th>\n",
       "      <td>Based on the context provided from the Hack fo...</td>\n",
       "      <td>a0235484-04f5-4db2-8fe1-5679fd0d9659</td>\n",
       "      <td>Are there any guidelines for summarizing the p...</td>\n",
       "      <td>RELEVANT</td>\n",
       "      <td>The generated answer provides detailed guideli...</td>\n",
       "    </tr>\n",
       "    <tr>\n",
       "      <th>3</th>\n",
       "      <td>Based on the information provided in the conte...</td>\n",
       "      <td>5e6a3d13-236b-4a65-928a-a123ee8eefe5</td>\n",
       "      <td>How do I update my gh-pages branch with the la...</td>\n",
       "      <td>RELEVANT</td>\n",
       "      <td>The generated answer provides a clear and comp...</td>\n",
       "    </tr>\n",
       "    <tr>\n",
       "      <th>4</th>\n",
       "      <td>Based on the information provided in the contr...</td>\n",
       "      <td>8fa8f710-1645-40d3-a6c4-22f5c6db766b</td>\n",
       "      <td>What steps should I follow to claim a task in ...</td>\n",
       "      <td>RELEVANT</td>\n",
       "      <td>The generated answer provides a comprehensive ...</td>\n",
       "    </tr>\n",
       "  </tbody>\n",
       "</table>\n",
       "</div>"
      ],
      "text/plain": [
       "                                              answer  \\\n",
       "0  Based on the information provided in the CONTE...   \n",
       "1  Based on the information provided in the CONTE...   \n",
       "2  Based on the context provided from the Hack fo...   \n",
       "3  Based on the information provided in the conte...   \n",
       "4  Based on the information provided in the contr...   \n",
       "\n",
       "                                     id  \\\n",
       "0  7900ab8b-86e3-4a25-94d6-568f12529a0f   \n",
       "1  ae00f395-3da6-4329-b048-d34236f2f76e   \n",
       "2  a0235484-04f5-4db2-8fe1-5679fd0d9659   \n",
       "3  5e6a3d13-236b-4a65-928a-a123ee8eefe5   \n",
       "4  8fa8f710-1645-40d3-a6c4-22f5c6db766b   \n",
       "\n",
       "                                            question relevance  \\\n",
       "0  How are the issues in the Prioritized Backlog ...  RELEVANT   \n",
       "1  Are there any official guides or documentation...  RELEVANT   \n",
       "2  Are there any guidelines for summarizing the p...  RELEVANT   \n",
       "3  How do I update my gh-pages branch with the la...  RELEVANT   \n",
       "4  What steps should I follow to claim a task in ...  RELEVANT   \n",
       "\n",
       "                                         explanation  \n",
       "0  The generated answer provides a comprehensive ...  \n",
       "1  The generated answer directly addresses the qu...  \n",
       "2  The generated answer provides detailed guideli...  \n",
       "3  The generated answer provides a clear and comp...  \n",
       "4  The generated answer provides a comprehensive ...  "
      ]
     },
     "execution_count": 97,
     "metadata": {},
     "output_type": "execute_result"
    }
   ],
   "source": [
    "df_eval_2.head()"
   ]
  }
 ],
 "metadata": {
  "kernelspec": {
   "display_name": "Python 3 (ipykernel)",
   "language": "python",
   "name": "python3"
  },
  "language_info": {
   "codemirror_mode": {
    "name": "ipython",
    "version": 3
   },
   "file_extension": ".py",
   "mimetype": "text/x-python",
   "name": "python",
   "nbconvert_exporter": "python",
   "pygments_lexer": "ipython3",
   "version": "3.12.4"
  }
 },
 "nbformat": 4,
 "nbformat_minor": 5
}
