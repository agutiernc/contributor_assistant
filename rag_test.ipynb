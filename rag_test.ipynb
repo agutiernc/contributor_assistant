{
 "cells": [
  {
   "cell_type": "code",
   "execution_count": 1,
   "id": "870bb7e3-eab5-45c3-aeaf-73d0293f5905",
   "metadata": {},
   "outputs": [],
   "source": [
    "import pandas as pd\n",
    "import anthropic\n",
    "from tqdm.auto import tqdm\n",
    "from elasticsearch import Elasticsearch\n",
    "from sentence_transformers import SentenceTransformer\n",
    "import json"
   ]
  },
  {
   "cell_type": "code",
   "execution_count": 2,
   "id": "b30da0e1-47f9-48e4-93c6-bfbeca8a4b6e",
   "metadata": {},
   "outputs": [],
   "source": [
    "with open('./data/documents.json', 'r') as f_in:\n",
    "    documents = json.load(f_in)"
   ]
  },
  {
   "cell_type": "code",
   "execution_count": 3,
   "id": "ca598cff-bcdc-42f4-b393-0905e8b2b7b6",
   "metadata": {},
   "outputs": [
    {
     "data": {
      "text/plain": [
       "{'id': '3ba4d080-97a6-4954-829e-121e008c43e9',\n",
       " 'page_content': 'In the `hfla-site` Slack channel, send an introductory message with your GitHub handle/username asking to be added to the Hack for LA website GitHub repository (this repository).  \\n**NOTE:** Once you have accepted the GitHub invite (comes via email or in your GitHub notifications), **please do the following**:  \\n1. Make your own Hack for LA GitHub organization membership public by following this [guide](https://help.github.com/en/articles/publicizing-or-hiding-organization-membership#changing-the-visibility-of-your-organization-membership).\\n2. Set up two-factor authentication on your account by following this [guide](https://docs.github.com/en/github/authenticating-to-github/configuring-two-factor-authentication).  \\n***',\n",
       " 'header_1': '**How to Contribute to Hack for LA**',\n",
       " 'header_2': '**Part 1: Setting up the development environment**',\n",
       " 'header_3': '**1.1 Dev setup (1): Join the repository team**'}"
      ]
     },
     "execution_count": 3,
     "metadata": {},
     "output_type": "execute_result"
    }
   ],
   "source": [
    "documents[0]"
   ]
  },
  {
   "cell_type": "markdown",
   "id": "b0e1d1bd-354d-410f-bfbc-a1cc634f92e9",
   "metadata": {},
   "source": [
    "## Indexing Stage"
   ]
  },
  {
   "cell_type": "code",
   "execution_count": 4,
   "id": "02c08206-4958-4b2d-99df-34d40c4acf68",
   "metadata": {},
   "outputs": [
    {
     "name": "stderr",
     "output_type": "stream",
     "text": [
      "/opt/homebrew/Caskroom/miniconda/base/envs/llm_venv/lib/python3.12/site-packages/transformers/tokenization_utils_base.py:1601: FutureWarning: `clean_up_tokenization_spaces` was not set. It will be set to `True` by default. This behavior will be depracted in transformers v4.45, and will be then set to `False` by default. For more details check this issue: https://github.com/huggingface/transformers/issues/31884\n",
      "  warnings.warn(\n"
     ]
    }
   ],
   "source": [
    "model = SentenceTransformer('multi-qa-MiniLM-L6-cos-v1')"
   ]
  },
  {
   "cell_type": "code",
   "execution_count": 5,
   "id": "aeeeb1c1-5420-456e-9593-3e583a56d6a3",
   "metadata": {},
   "outputs": [],
   "source": [
    "query = 'Where do I find github issues to work on?'"
   ]
  },
  {
   "cell_type": "code",
   "execution_count": 6,
   "id": "e2e2ace0-bc4e-41fc-9fd0-7e90151349ca",
   "metadata": {},
   "outputs": [],
   "source": [
    "v = model.encode(query)"
   ]
  },
  {
   "cell_type": "code",
   "execution_count": 7,
   "id": "587c0b8b-5327-4dbf-9613-142a0aae9d40",
   "metadata": {},
   "outputs": [
    {
     "data": {
      "text/plain": [
       "384"
      ]
     },
     "execution_count": 7,
     "metadata": {},
     "output_type": "execute_result"
    }
   ],
   "source": [
    "len(v)"
   ]
  },
  {
   "cell_type": "code",
   "execution_count": 8,
   "id": "6dcf5be8-0415-4679-ac29-7e6212c5a5a0",
   "metadata": {},
   "outputs": [],
   "source": [
    "index_settings = {\n",
    "  \"settings\": {\n",
    "    \"number_of_shards\": 1,\n",
    "    \"number_of_replicas\": 0\n",
    "  },\n",
    "  \"mappings\": {\n",
    "    \"dynamic\": True,\n",
    "    \"properties\": {\n",
    "      \"id\": { \"type\": \"keyword\" },\n",
    "      \"page_content\": { \"type\": \"text\" },\n",
    "      \"header_1\": { \"type\": \"text\" },\n",
    "      \"header_2\": { \"type\": \"text\" },\n",
    "      \"header_3\": { \"type\": \"text\" },\n",
    "      \"header_4\": { \"type\": \"text\"},\n",
    "      \"header_5\": { \"type\": \"text\"},\n",
    "      \"page_content_vector\": {\n",
    "        \"type\": \"dense_vector\",\n",
    "        \"dims\": 384,\n",
    "        \"index\": True,\n",
    "        \"similarity\": \"cosine\"\n",
    "      },\n",
    "     \"metadata_vector\": {\n",
    "        \"type\": \"dense_vector\",\n",
    "        \"dims\": 384,\n",
    "        \"index\": True,\n",
    "        \"similarity\": \"cosine\"\n",
    "      },\n",
    "     \"combined_vector\": {\n",
    "        \"type\": \"dense_vector\",\n",
    "        \"dims\": 384,\n",
    "        \"index\": True,\n",
    "        \"similarity\": \"cosine\"\n",
    "      }\n",
    "    }\n",
    "  }\n",
    "}\n",
    "\n",
    "index_name = \"contributing_h4la\""
   ]
  },
  {
   "cell_type": "code",
   "execution_count": 9,
   "id": "6386199c-e3ae-4a84-a83f-d1c3875d714d",
   "metadata": {},
   "outputs": [],
   "source": [
    "es_client = Elasticsearch('http://localhost:9200')"
   ]
  },
  {
   "cell_type": "code",
   "execution_count": 10,
   "id": "d62168dd-8c85-4dd3-bf2e-388ad7ac9caa",
   "metadata": {},
   "outputs": [
    {
     "data": {
      "text/plain": [
       "ObjectApiResponse({'acknowledged': True, 'shards_acknowledged': True, 'index': 'contributing_h4la'})"
      ]
     },
     "execution_count": 10,
     "metadata": {},
     "output_type": "execute_result"
    }
   ],
   "source": [
    "es_client.indices.delete(index=index_name, ignore_unavailable=True)\n",
    "es_client.indices.create(index=index_name, body=index_settings)"
   ]
  },
  {
   "cell_type": "code",
   "execution_count": 11,
   "id": "c46557ab-9706-48a1-926d-9518cc238c2b",
   "metadata": {},
   "outputs": [
    {
     "data": {
      "application/vnd.jupyter.widget-view+json": {
       "model_id": "77a65d4e7547441592dbe3fa7e410e93",
       "version_major": 2,
       "version_minor": 0
      },
      "text/plain": [
       "  0%|          | 0/60 [00:00<?, ?it/s]"
      ]
     },
     "metadata": {},
     "output_type": "display_data"
    }
   ],
   "source": [
    "for doc in tqdm(documents):\n",
    "    # extract content from doc\n",
    "    content = doc.get('page_content')\n",
    "    headers = ' '.join([doc.get(f'header_{i}', '') for i in range(1, 6)])\n",
    "\n",
    "    # combine headers and content for full text encoding\n",
    "    combined_text = headers + ' ' + content\n",
    "\n",
    "    # encode content and headers\n",
    "    doc['page_content_vector'] = model.encode(content)\n",
    "    doc['metadata_vector'] = model.encode(headers)\n",
    "    doc['combined_vector'] = model.encode(combined_text)"
   ]
  },
  {
   "cell_type": "code",
   "execution_count": 12,
   "id": "847561f9-4a79-4f9e-90ff-c87608f3b94f",
   "metadata": {},
   "outputs": [
    {
     "data": {
      "application/vnd.jupyter.widget-view+json": {
       "model_id": "8bcbbca4bf56437f95886757cfe51f87",
       "version_major": 2,
       "version_minor": 0
      },
      "text/plain": [
       "  0%|          | 0/60 [00:00<?, ?it/s]"
      ]
     },
     "metadata": {},
     "output_type": "display_data"
    }
   ],
   "source": [
    "for doc in tqdm(documents):\n",
    "    try:\n",
    "        es_client.index(index=index_name, document=doc)\n",
    "    except Exception as e:\n",
    "        print(e)"
   ]
  },
  {
   "cell_type": "markdown",
   "id": "c3a4e4f7-892e-4d29-8c86-da1e69bd883c",
   "metadata": {},
   "source": [
    "## Retrieval Evaluation Stage"
   ]
  },
  {
   "cell_type": "code",
   "execution_count": 14,
   "id": "50fe1406-0825-479d-b549-e4aa6576b0b4",
   "metadata": {},
   "outputs": [],
   "source": [
    "from typing import Dict\n",
    "# from langchain.embeddings import SentenceTransformerEmbeddings\n",
    "from langchain_huggingface import HuggingFaceEmbeddings"
   ]
  },
  {
   "cell_type": "code",
   "execution_count": 15,
   "id": "950a320f-b63e-43d4-b66a-68cc54f67e14",
   "metadata": {},
   "outputs": [],
   "source": [
    "from langchain_elasticsearch import ElasticsearchRetriever"
   ]
  },
  {
   "cell_type": "code",
   "execution_count": 16,
   "id": "e8ed86f4-201c-4f5b-ad71-460ab7841f6b",
   "metadata": {},
   "outputs": [],
   "source": [
    "es_url = 'http://localhost:9200'"
   ]
  },
  {
   "cell_type": "code",
   "execution_count": 20,
   "id": "19e2ce56-55c6-4f11-b00b-ce938f1ed834",
   "metadata": {},
   "outputs": [],
   "source": [
    "# embeddings = SentenceTransformerEmbeddings(model_name=\"sentence-transformers/multi-qa-MiniLM-L6-cos-v1\")\n",
    "embeddings = HuggingFaceEmbeddings(model_name=\"multi-qa-MiniLM-L6-cos-v1\")"
   ]
  },
  {
   "cell_type": "code",
   "execution_count": 21,
   "id": "20e8566b-019a-4172-aef1-798716734cca",
   "metadata": {},
   "outputs": [],
   "source": [
    "# will return keyword search dictionary and vector search dictionary\n",
    "\n",
    "def hybrid_query(search_query: str) -> Dict:\n",
    "    vector = embeddings.embed_query(search_query)  # same embeddings as for indexing\n",
    "    \n",
    "    return {\n",
    "        \"query\": {\n",
    "            \"bool\": {\n",
    "                \"must\": {\n",
    "                    \"multi_match\": {\n",
    "                        \"query\": search_query,\n",
    "                        \"fields\": [\"page_content\", \"header_1\", \"header_2\", \"header_3\", \"header_4\", \"header_5\"],\n",
    "                        \"type\": \"best_fields\",\n",
    "                        \"boost\": 0.5,\n",
    "                    }\n",
    "                },\n",
    "            }\n",
    "        },\n",
    "        \"knn\": {\n",
    "            \"field\": \"combined_vector\",\n",
    "            \"query_vector\": vector,\n",
    "            \"k\": 5,\n",
    "            \"num_candidates\": 10000,\n",
    "            \"boost\": 0.5,\n",
    "        },\n",
    "        \"size\": 5, # output the size\n",
    "    }"
   ]
  },
  {
   "cell_type": "code",
   "execution_count": 22,
   "id": "1e3e3e90-79b6-444b-9b99-a2ab19252256",
   "metadata": {},
   "outputs": [],
   "source": [
    "hybrid_retriever = ElasticsearchRetriever.from_es_params(\n",
    "    index_name=index_name,\n",
    "    body_func=hybrid_query,\n",
    "    content_field='page_content',\n",
    "    url=es_url,\n",
    ")"
   ]
  },
  {
   "cell_type": "code",
   "execution_count": 23,
   "id": "8d27a58a-e032-4954-a449-6426c44d9ccd",
   "metadata": {},
   "outputs": [],
   "source": [
    "# produces the results => list of the answers\n",
    "hybrid_results = hybrid_retriever.invoke(query)"
   ]
  },
  {
   "cell_type": "code",
   "execution_count": 24,
   "id": "6826ded0-795f-4cc2-8a39-5c6ccb76ce4d",
   "metadata": {},
   "outputs": [
    {
     "name": "stdout",
     "output_type": "stream",
     "text": [
      "**How to Contribute to Hack for LA** **Part 3: Pull Requests** **3.1 How to make a pull request** **3.1.b Complete pull request on Hack for LA `website` repo** **vi. After pull request is submitted/merged** 9.00024\n",
      "**How to Contribute to Hack for LA** **Part 2: How the Website team works with GitHub issues** **2.3 Where can I find GitHub issues to work on?**   7.2144165\n",
      "**How to Contribute to Hack for LA** **Part 2: How the Website team works with GitHub issues** **2.3 Where can I find GitHub issues to work on?** **2.3.a Available issues for new members**  7.202378\n",
      "**How to Contribute to Hack for LA** **Part 2: How the Website team works with GitHub issues** **2.3 Where can I find GitHub issues to work on?** **2.3.d What if you see bugs/errors that are not connected to an issue?**  7.194034\n",
      "**How to Contribute to Hack for LA** **Part 2: How the Website team works with GitHub issues** **2.3 Where can I find GitHub issues to work on?** **2.3.b Available issues for returning members**  7.1891756\n"
     ]
    }
   ],
   "source": [
    "# print(hybrid_results[0].metadata['_source'])\n",
    "\n",
    "for result in hybrid_results:\n",
    "    print(result.metadata['_source']['header_1'],\n",
    "          result.metadata['_source']['header_2'],\n",
    "          result.metadata['_source']['header_3'],\n",
    "          result.metadata['_source'].get('header_4', ''),\n",
    "          result.metadata['_source'].get('header_5', ''),\n",
    "          result.metadata['_score']\n",
    "         )"
   ]
  },
  {
   "cell_type": "code",
   "execution_count": 188,
   "id": "6560c72f-8945-4f6f-9c0b-1d2b6a03d53b",
   "metadata": {},
   "outputs": [
    {
     "name": "stdout",
     "output_type": "stream",
     "text": [
      "**NOTE**: After completing your assignment and committing all of the changes, you must leave your current branch and return to the `gh-pages` branch.  \n",
      "Run the following command to return to the `gh-pages` branch:  \n",
      "```bash\n",
      "git checkout `gh-pages`\n",
      "```\n",
      "Once your pull request is merged you can delete your branch with the following command:  \n",
      "```bash\n",
      "git branch -d update-give-link-2093\n",
      "```  \n",
      "Now you are all set to work on a new PR. Start over at [**2.3 Where can I find GitHub issues to work on?**](#23-where-can-i-find-github-issues-to-work-on) and repeat completing parts 2 and 3.\n"
     ]
    }
   ],
   "source": [
    "print(hybrid_results[0].page_content)"
   ]
  },
  {
   "cell_type": "markdown",
   "id": "403c66c4-0d19-4afa-98a3-1663796455a3",
   "metadata": {},
   "source": [
    "## Hybrid Search"
   ]
  },
  {
   "cell_type": "code",
   "execution_count": 26,
   "id": "491d5183-2569-45db-85c6-9fde4c76833b",
   "metadata": {},
   "outputs": [],
   "source": [
    "df_ground_truth = pd.read_csv('./data/ground-truth-retrieval.csv')"
   ]
  },
  {
   "cell_type": "code",
   "execution_count": 27,
   "id": "c2dfb74c-154a-43ed-ae4f-b84f87db9683",
   "metadata": {},
   "outputs": [],
   "source": [
    "ground_truth = df_ground_truth.to_dict(orient='records')"
   ]
  },
  {
   "cell_type": "code",
   "execution_count": 28,
   "id": "d7f28583-d3db-4bc6-8db3-3c3a80cef765",
   "metadata": {},
   "outputs": [],
   "source": [
    "def hit_rate(relevance_total):\n",
    "    cnt = 0\n",
    "\n",
    "    for line in relevance_total:\n",
    "        if True in line:\n",
    "            cnt = cnt + 1\n",
    "\n",
    "    return cnt / len(relevance_total)"
   ]
  },
  {
   "cell_type": "code",
   "execution_count": 29,
   "id": "895b3572-3add-4006-a1fe-f4ae8a0c0c7c",
   "metadata": {},
   "outputs": [],
   "source": [
    "def mrr(relevance_total):\n",
    "    total_score = 0.0\n",
    "\n",
    "    for line in relevance_total:\n",
    "        for rank in range(len(line)):\n",
    "            if line[rank] == True:\n",
    "                total_score = total_score + 1 / (rank + 1)\n",
    "\n",
    "    return total_score / len(relevance_total)"
   ]
  },
  {
   "cell_type": "code",
   "execution_count": 191,
   "id": "cea407d1-a8d6-4a4c-8b0c-d6fd330f17dd",
   "metadata": {},
   "outputs": [],
   "source": [
    "def elastic_search_hybrid(field, query):\n",
    "    def hybrid_query(search_query: str) -> Dict:\n",
    "        vector = embeddings.embed_query(search_query)\n",
    "        \n",
    "        return {\n",
    "            \"query\": {\n",
    "                \"bool\": {\n",
    "                    \"must\": {\n",
    "                        \"multi_match\": {\n",
    "                            \"query\": search_query,\n",
    "                            \"fields\": [\"page_content\", \"header_1\", \"header_2\", \"header_3\", \"header_4\", \"header_5\"],\n",
    "                            \"type\": \"best_fields\",\n",
    "                            \"boost\": 0.3,\n",
    "                        }\n",
    "                    },\n",
    "                }\n",
    "            },\n",
    "            \"knn\": {\n",
    "                \"field\": field,\n",
    "                \"query_vector\": vector,\n",
    "                \"k\": 5,\n",
    "                \"num_candidates\": 1000,\n",
    "                \"boost\": 2,\n",
    "            },\n",
    "            \"size\": 5,\n",
    "            \"_source\": [\"page_content\", \"header_1\", \"header_2\", \"header_3\", \"header_4\", \"header_5\", \"id\"],\n",
    "        }\n",
    "    \n",
    "    \n",
    "    hybrid_retriever = ElasticsearchRetriever.from_es_params(\n",
    "        index_name=index_name,\n",
    "        body_func=hybrid_query,\n",
    "        content_field='page_content',\n",
    "        url=es_url,\n",
    "    )\n",
    "\n",
    "    hybrid_results = hybrid_retriever.invoke(query)\n",
    "    \n",
    "    result_docs = []\n",
    "    \n",
    "    for hit in hybrid_results:\n",
    "        result_docs.append(hit.metadata['_source'])\n",
    "\n",
    "    return result_docs"
   ]
  },
  {
   "cell_type": "code",
   "execution_count": 31,
   "id": "98cbb190-1f7e-4f87-8c39-600264bc7d2c",
   "metadata": {},
   "outputs": [],
   "source": [
    "question = ground_truth[0]['question']"
   ]
  },
  {
   "cell_type": "code",
   "execution_count": 32,
   "id": "75a23f3c-1c6d-4d7b-8619-cf1b245ff479",
   "metadata": {},
   "outputs": [
    {
     "name": "stdout",
     "output_type": "stream",
     "text": [
      "How do I request access to the Hack for LA website GitHub repository?\n"
     ]
    }
   ],
   "source": [
    "print(question)"
   ]
  },
  {
   "cell_type": "code",
   "execution_count": null,
   "id": "072d1ec7-abcd-4406-9a5e-ba6330d87142",
   "metadata": {},
   "outputs": [],
   "source": [
    "# hybrid_results[0].metadata['_source']\n",
    "\n",
    "# LOOK INTO THIS\n",
    "# Document(page_content=content, metadata=hit)"
   ]
  },
  {
   "cell_type": "code",
   "execution_count": 33,
   "id": "4c62f6bf-0400-4286-9b6a-bfb95f4c2718",
   "metadata": {},
   "outputs": [
    {
     "data": {
      "text/plain": [
       "[{'id': '3ba4d080-97a6-4954-829e-121e008c43e9',\n",
       "  'header_1': '**How to Contribute to Hack for LA**',\n",
       "  'header_2': '**Part 1: Setting up the development environment**',\n",
       "  'header_3': '**1.1 Dev setup (1): Join the repository team**'},\n",
       " {'id': '7da5e900-3183-4d40-b0af-021562c21707',\n",
       "  'header_1': '**How to Contribute to Hack for LA**',\n",
       "  'header_2': '**Part 1: Setting up the development environment**',\n",
       "  'header_3': '**1.4 Dev setup (4): Clone (Create) a copy on your computer**',\n",
       "  'header_4': '**1.4.c What if you accidentally cloned using the repository URL from the HackForLA Github (instead of the fork on your Github)?**',\n",
       "  'header_5': '**i. Resolve remote (1): reset `origin` remote url**'},\n",
       " {'id': '729f9112-7dc4-4ad3-91c0-498578f7df13',\n",
       "  'header_1': '**How to Contribute to Hack for LA**',\n",
       "  'header_2': '**Part 1: Setting up the development environment**',\n",
       "  'header_3': '**1.4 Dev setup (4): Clone (Create) a copy on your computer**',\n",
       "  'header_4': '**1.4.c What if you accidentally cloned using the repository URL from the HackForLA Github (instead of the fork on your Github)?**',\n",
       "  'header_5': '**ii. Resolve remote (2): Add an `upstream` remote**'},\n",
       " {'id': 'e6e32d17-c2eb-478e-aa19-5ead653e150d',\n",
       "  'header_1': '**How to Contribute to Hack for LA**',\n",
       "  'header_2': '**Part 4: Resources and Documentation**',\n",
       "  'header_3': '**4.2 Resources and Documentation**',\n",
       "  'header_4': '**4.2.a Hack For LA resources**'},\n",
       " {'id': '3ef62543-761f-4f53-b5c2-afe015593366',\n",
       "  'header_1': '**How to Contribute to Hack for LA**',\n",
       "  'header_2': '**Part 2: How the Website team works with GitHub issues**',\n",
       "  'header_3': '**2.7 Working on an issue**',\n",
       "  'header_4': '**2.7.d Working on an issue (4): Pulling from upstream before you push**'}]"
      ]
     },
     "execution_count": 33,
     "metadata": {},
     "output_type": "execute_result"
    }
   ],
   "source": [
    "elastic_search_hybrid(\"combined_vector\", question)"
   ]
  },
  {
   "cell_type": "code",
   "execution_count": 216,
   "id": "e32ef9d7-079c-408f-8317-637a1d5e6439",
   "metadata": {},
   "outputs": [],
   "source": [
    "def question_text_hybrid(q):\n",
    "    question = q['question']\n",
    "\n",
    "    return elastic_search_hybrid('combined_vector', question)"
   ]
  },
  {
   "cell_type": "code",
   "execution_count": 35,
   "id": "f484b01c-1e5f-4ce2-9205-eb7934b314a3",
   "metadata": {},
   "outputs": [],
   "source": [
    "def evaluate(ground_truth, search_function):\n",
    "    relevance_total = []\n",
    "    \n",
    "    # relevance is matching the id from the questions to the id in the documents\n",
    "    for q in tqdm(ground_truth):\n",
    "        doc_id = q['id']\n",
    "        results = search_function(q)\n",
    "        relevance = [d['id'] == doc_id for d in results]\n",
    "        \n",
    "        relevance_total.append(relevance)\n",
    "\n",
    "    return {\n",
    "        'hit_rate': hit_rate(relevance_total),\n",
    "        'mrr': mrr(relevance_total),\n",
    "    }"
   ]
  },
  {
   "cell_type": "code",
   "execution_count": 217,
   "id": "933e3b45-27d8-4fe3-a1cb-bec4194deb32",
   "metadata": {},
   "outputs": [
    {
     "data": {
      "application/vnd.jupyter.widget-view+json": {
       "model_id": "aaa48ab32024469e811186d747bb9174",
       "version_major": 2,
       "version_minor": 0
      },
      "text/plain": [
       "  0%|          | 0/242 [00:00<?, ?it/s]"
      ]
     },
     "metadata": {},
     "output_type": "display_data"
    },
    {
     "data": {
      "text/plain": [
       "{'hit_rate': 0.8925619834710744, 'mrr': 0.7216942148760329}"
      ]
     },
     "execution_count": 217,
     "metadata": {},
     "output_type": "execute_result"
    }
   ],
   "source": [
    "evaluate(ground_truth, question_text_hybrid)"
   ]
  },
  {
   "cell_type": "markdown",
   "id": "5ee0904b-e498-4bb5-b000-2bb8457565fa",
   "metadata": {},
   "source": [
    "## Hybrid Search with RRF / ElasticSearch"
   ]
  },
  {
   "cell_type": "code",
   "execution_count": 37,
   "id": "3d4b1d80-4054-4b86-99da-d89918a48e20",
   "metadata": {},
   "outputs": [],
   "source": [
    "def compute_rrf(rank, k=60):\n",
    "    \"\"\" Own implementation of the relevance score \"\"\"\n",
    "    \n",
    "    return 1 / (k + rank)"
   ]
  },
  {
   "cell_type": "code",
   "execution_count": 222,
   "id": "7bbb3c7d-f5b1-4f02-8224-484d80903a2e",
   "metadata": {},
   "outputs": [],
   "source": [
    "def elastic_search_hybrid_rrf(field, query, vector, k=60):\n",
    "    # vector = embeddings.embed_query(query)\n",
    "    \n",
    "    # KNN query\n",
    "    knn_query = {\n",
    "        \"knn\": {\n",
    "            \"field\": field,\n",
    "            \"query_vector\": vector,\n",
    "            \"k\": 10,\n",
    "            \"num_candidates\": 1000,\n",
    "            \"boost\": 0.5,\n",
    "        },\n",
    "        \"size\": 10,\n",
    "        \"_source\": [\"page_content^3\", \"header_1^2\", \"header_2\", \"header_3\", \"header_4\", \"header_5\"],\n",
    "    }\n",
    "    \n",
    "    # Keyword query\n",
    "    keyword_query = {\n",
    "        \"query\": {\n",
    "            \"multi_match\": {\n",
    "                \"query\": query,\n",
    "                \"fields\": [\"page_content^3\", \"header_1^2\", \"header_2\", \"header_3\", \"header_4\", \"header_5\"],\n",
    "                \"type\": \"best_fields\",\n",
    "                \"boost\": 0.5,\n",
    "            }\n",
    "        },\n",
    "        \"size\": 10,\n",
    "        # \"_source\": [\"page_content\", \"header_1\", \"header_2\", \"header_3\", \"header_4\", \"header_5\", \"id\"],\n",
    "    }\n",
    "    \n",
    "    # Perform searches\n",
    "    knn_results = es_client.search(index=index_name, body=knn_query)['hits']['hits']\n",
    "    keyword_results = es_client.search(index=index_name, body=keyword_query)['hits']['hits']\n",
    "    \n",
    "    # Apply RRF\n",
    "    rrf_scores = {}\n",
    "    \n",
    "    for rank, hit in enumerate(knn_results):\n",
    "        doc_id = hit['_id']\n",
    "        rrf_scores[doc_id] = compute_rrf(rank + 1, k)\n",
    "    \n",
    "    for rank, hit in enumerate(keyword_results):\n",
    "        doc_id = hit['_id']\n",
    "        \n",
    "        if doc_id in rrf_scores:\n",
    "            rrf_scores[doc_id] += compute_rrf(rank + 1, k)\n",
    "        else:\n",
    "            rrf_scores[doc_id] = compute_rrf(rank + 1, k)\n",
    "    \n",
    "    # Sort and get top results\n",
    "    reranked_docs = sorted(rrf_scores.items(), key=lambda x: x[1], reverse=True)\n",
    "    \n",
    "    final_results = []\n",
    "    \n",
    "    for doc_id, score in reranked_docs[:5]:\n",
    "        doc = es_client.get(index=index_name, id=doc_id)\n",
    "        \n",
    "        final_results.append(doc['_source'])\n",
    "\n",
    "    #print(\"RESULT: \", final_results[0])\n",
    "    return final_results"
   ]
  },
  {
   "cell_type": "code",
   "execution_count": 226,
   "id": "e8b42773-a55a-4392-b53f-e70291221e14",
   "metadata": {},
   "outputs": [],
   "source": [
    "def question_text_hybrid_rrf(q):\n",
    "    question = q['question']\n",
    "\n",
    "    v_q = model.encode(question)\n",
    "    # v_q = embeddings.embed_query(question)\n",
    "\n",
    "    return elastic_search_hybrid_rrf('page_content_vector', question, v_q)"
   ]
  },
  {
   "cell_type": "code",
   "execution_count": 227,
   "id": "5d111a35-4d23-4563-80b6-24293770d139",
   "metadata": {},
   "outputs": [
    {
     "data": {
      "application/vnd.jupyter.widget-view+json": {
       "model_id": "b72ad99f17a54f8fa3529bcbdee9c177",
       "version_major": 2,
       "version_minor": 0
      },
      "text/plain": [
       "  0%|          | 0/242 [00:00<?, ?it/s]"
      ]
     },
     "metadata": {},
     "output_type": "display_data"
    },
    {
     "data": {
      "text/plain": [
       "{'hit_rate': 0.8966942148760331, 'mrr': 0.719421487603306}"
      ]
     },
     "execution_count": 227,
     "metadata": {},
     "output_type": "execute_result"
    }
   ],
   "source": [
    "evaluate(ground_truth, question_text_hybrid_rrf)"
   ]
  },
  {
   "cell_type": "markdown",
   "id": "337319ac-e2e0-4f94-b875-305898486c64",
   "metadata": {},
   "source": [
    "## RAG Flow"
   ]
  },
  {
   "cell_type": "code",
   "execution_count": 228,
   "id": "7c9b96e1-3654-4762-8229-bfb82d35598f",
   "metadata": {},
   "outputs": [],
   "source": [
    "client = anthropic.Anthropic()"
   ]
  },
  {
   "cell_type": "code",
   "execution_count": 243,
   "id": "5a114948-ff2a-44be-adae-506c3e3153d9",
   "metadata": {},
   "outputs": [],
   "source": [
    "def search_hyrid_rrf(q):\n",
    "    v_q = model.encode(q)\n",
    "\n",
    "    return elastic_search_hybrid_rrf('page_content_vector', q, v_q)"
   ]
  },
  {
   "cell_type": "code",
   "execution_count": null,
   "id": "6bc56391-8d9c-41ab-a8ad-ed7255b159c3",
   "metadata": {},
   "outputs": [],
   "source": [
    "def elastic_search(query):\n",
    "    search_query = {\n",
    "        \"size\": 3,\n",
    "        \"query\": {\n",
    "            \"bool\": {\n",
    "                \"must\": {\n",
    "                    \"multi_match\": {\n",
    "                        \"query\": query,\n",
    "                        \"fields\": [\"page_content\", \"header_1\", \"header_2\", \"header_3\", \"header_4\", \"header_5\"],\n",
    "                        \"type\": \"best_fields\",\n",
    "                        \"boost\": 1\n",
    "                    }\n",
    "                },\n",
    "            }\n",
    "        }\n",
    "    }\n",
    "\n",
    "    response = es_client.search(index=index_name, body=search_query)\n",
    "\n",
    "    result_docs = []\n",
    "\n",
    "    for hit in response['hits']['hits']:\n",
    "        doc = hit['_source']\n",
    "        doc['_score'] = hit['_score']\n",
    "        \n",
    "        result_docs.append(doc)\n",
    "\n",
    "    return result_docs"
   ]
  },
  {
   "cell_type": "code",
   "execution_count": 229,
   "id": "9a4519bc-51a8-418e-94a6-4e499edbdcfd",
   "metadata": {},
   "outputs": [],
   "source": [
    "prompt_template = \"\"\"\n",
    "You're an assistant to an open source software engineering project on github. Answer the QUESTION based on the CONTEXT from our\n",
    "contributor FAQ database.\n",
    "Use only the facts from the CONTEXT when answering the QUESTION.\n",
    "\n",
    "QUESTION: {question}\n",
    "\n",
    "CONTEXT:\n",
    "{context}\n",
    "\"\"\".strip()\n",
    "\n",
    "entry_template = \"\"\"\n",
    "page_content: {page_content}\n",
    "\"\"\".strip()"
   ]
  },
  {
   "cell_type": "code",
   "execution_count": 230,
   "id": "a6dd83bd-2a95-48fa-bedd-9574b0d21e22",
   "metadata": {},
   "outputs": [],
   "source": [
    "def build_prompt(query, search_results):\n",
    "    context = \"\"\n",
    "    \n",
    "    for doc in search_results:\n",
    "        context = context + entry_template.format(**doc) + \"\\n\\n\"\n",
    "\n",
    "    prompt = prompt_template.format(question=query, context=context).strip()\n",
    "    \n",
    "    return prompt"
   ]
  },
  {
   "cell_type": "code",
   "execution_count": 245,
   "id": "c5d928bf-cbe9-4ccc-8f6b-9dd8bb8bd57c",
   "metadata": {},
   "outputs": [],
   "source": [
    "def llm(prompt):\n",
    "    response = client.messages.create(\n",
    "        model=\"claude-3-5-sonnet-20240620\",\n",
    "        max_tokens=1024,\n",
    "        messages=[\n",
    "            {\"role\": \"user\", \"content\": prompt}\n",
    "        ]\n",
    "    )\n",
    "\n",
    "    print('token usage: ', response.usage) # get tokens info\n",
    "    print('==============================')\n",
    "    return response.content[0].text"
   ]
  },
  {
   "cell_type": "code",
   "execution_count": 241,
   "id": "e6ae1c6e-6b58-4703-a420-a6b885dc98bc",
   "metadata": {},
   "outputs": [],
   "source": [
    "def rag(query):\n",
    "    search_results = search_hyrid_rrf(query)\n",
    "    prompt = build_prompt(query, search_results)\n",
    "    answer = llm(prompt)\n",
    "\n",
    "    return answer"
   ]
  },
  {
   "cell_type": "code",
   "execution_count": 244,
   "id": "730a9747-972f-422e-941c-97306b8659cc",
   "metadata": {},
   "outputs": [
    {
     "name": "stdout",
     "output_type": "stream",
     "text": [
      "token usage:  Usage(input_tokens=1023, output_tokens=68)\n",
      "The best way to find GitHub issues to work on is by checking the GitHub Project Board, specifically the 'Prioritized Backlog' column. This column contains all available issues that have been approved and prioritized. The issues are filtered so that the top issue has the highest priority and should be worked on next.\n"
     ]
    }
   ],
   "source": [
    "answer = rag(query)\n",
    "print(answer)"
   ]
  },
  {
   "cell_type": "code",
   "execution_count": null,
   "id": "4d3df7ae-ac9d-4bea-8403-af93d23eaa48",
   "metadata": {},
   "outputs": [],
   "source": []
  }
 ],
 "metadata": {
  "kernelspec": {
   "display_name": "Python 3 (ipykernel)",
   "language": "python",
   "name": "python3"
  },
  "language_info": {
   "codemirror_mode": {
    "name": "ipython",
    "version": 3
   },
   "file_extension": ".py",
   "mimetype": "text/x-python",
   "name": "python",
   "nbconvert_exporter": "python",
   "pygments_lexer": "ipython3",
   "version": "3.12.4"
  }
 },
 "nbformat": 4,
 "nbformat_minor": 5
}
