{
 "cells": [
  {
   "cell_type": "code",
   "execution_count": 1,
   "id": "870bb7e3-eab5-45c3-aeaf-73d0293f5905",
   "metadata": {},
   "outputs": [],
   "source": [
    "import pandas as pd\n",
    "import uuid\n",
    "import anthropic\n",
    "from tqdm.auto import tqdm\n",
    "from elasticsearch import Elasticsearch\n",
    "from sentence_transformers import SentenceTransformer"
   ]
  },
  {
   "cell_type": "code",
   "execution_count": 2,
   "id": "b30da0e1-47f9-48e4-93c6-bfbeca8a4b6e",
   "metadata": {},
   "outputs": [],
   "source": [
    "with open('./data/documents.json', 'r') as f:\n",
    "    docs = f.read()"
   ]
  },
  {
   "cell_type": "markdown",
   "id": "b0e1d1bd-354d-410f-bfbc-a1cc634f92e9",
   "metadata": {},
   "source": [
    "## Indexing Stage"
   ]
  },
  {
   "cell_type": "code",
   "execution_count": 25,
   "id": "9f56ecfe-9314-4a6e-8340-d09b7333f107",
   "metadata": {},
   "outputs": [],
   "source": [
    "model_name = 'multi-qa-MiniLM-L6-cos-v1'"
   ]
  },
  {
   "cell_type": "code",
   "execution_count": 27,
   "id": "02c08206-4958-4b2d-99df-34d40c4acf68",
   "metadata": {},
   "outputs": [
    {
     "name": "stderr",
     "output_type": "stream",
     "text": [
      "/opt/homebrew/Caskroom/miniconda/base/envs/llm_venv/lib/python3.12/site-packages/transformers/tokenization_utils_base.py:1601: FutureWarning: `clean_up_tokenization_spaces` was not set. It will be set to `True` by default. This behavior will be depracted in transformers v4.45, and will be then set to `False` by default. For more details check this issue: https://github.com/huggingface/transformers/issues/31884\n",
      "  warnings.warn(\n"
     ]
    }
   ],
   "source": [
    "model = SentenceTransformer(model_name)"
   ]
  },
  {
   "cell_type": "code",
   "execution_count": 28,
   "id": "e2e2ace0-bc4e-41fc-9fd0-7e90151349ca",
   "metadata": {},
   "outputs": [],
   "source": [
    "v = model.encode('Do I need to setup a local development environment?')"
   ]
  },
  {
   "cell_type": "code",
   "execution_count": 29,
   "id": "587c0b8b-5327-4dbf-9613-142a0aae9d40",
   "metadata": {},
   "outputs": [
    {
     "data": {
      "text/plain": [
       "384"
      ]
     },
     "execution_count": 29,
     "metadata": {},
     "output_type": "execute_result"
    }
   ],
   "source": [
    "len(v)"
   ]
  },
  {
   "cell_type": "code",
   "execution_count": 31,
   "id": "6dcf5be8-0415-4679-ac29-7e6212c5a5a0",
   "metadata": {},
   "outputs": [],
   "source": [
    "# index_settings = {\n",
    "#   \"settings\": {\n",
    "#     \"number_of_shards\": 1,\n",
    "#     \"number_of_replicas\": 0\n",
    "#   },\n",
    "#   \"mappings\": {\n",
    "#     \"properties\": {\n",
    "#       \"id\": { \"type\": \"keyword\" },\n",
    "#       \"metadata\": {\n",
    "#         \"type\": \"object\",\n",
    "#         \"properties\": {\n",
    "#           \"header_1\": { \"type\": \"text\" },\n",
    "#           \"header_2\": { \"type\": \"text\" },\n",
    "#           \"header_3\": { \"type\": \"text\" }\n",
    "#         }\n",
    "#       },\n",
    "#       \"page_content\": { \n",
    "#         \"type\": \"text\"\n",
    "#       },\n",
    "#       \"page_content_vector\": {\n",
    "#         \"type\": \"dense_vector\",\n",
    "#         \"dims\": 384,\n",
    "#         \"index\": True,\n",
    "#         \"similarity\": \"cosine\"\n",
    "#       }\n",
    "#     }\n",
    "#   }\n",
    "# }\n",
    "\n",
    "index_settings = {\n",
    "  \"settings\": {\n",
    "    \"number_of_shards\": 1,\n",
    "    \"number_of_replicas\": 0\n",
    "  },\n",
    "  \"mappings\": {\n",
    "    \"properties\": {\n",
    "      \"id\": { \"type\": \"keyword\" },\n",
    "      \"page_content\": { \"type\": \"text\" },\n",
    "      \"header_1\": { \"type\": \"text\" },\n",
    "      \"header_2\": { \"type\": \"text\" },\n",
    "      \"header_3\": { \"type\": \"text\" },\n",
    "      \"page_content_vector\": {\n",
    "        \"type\": \"dense_vector\",\n",
    "        \"dims\": 384,\n",
    "        \"index\": True,\n",
    "        \"similarity\": \"cosine\"\n",
    "      },\n",
    "     \"metadata_vector\": {\n",
    "        \"type\": \"dense_vector\",\n",
    "        \"dims\": 384,\n",
    "        \"index\": True,\n",
    "        \"similarity\": \"cosine\"\n",
    "      },\n",
    "     \"combined_vector\": {\n",
    "        \"type\": \"dense_vector\",\n",
    "        \"dims\": 384,\n",
    "        \"index\": True,\n",
    "        \"similarity\": \"cosine\"\n",
    "      }\n",
    "    }\n",
    "  }\n",
    "}\n",
    "\n",
    "index_name = \"contributing_h4la\""
   ]
  },
  {
   "cell_type": "code",
   "execution_count": 32,
   "id": "6386199c-e3ae-4a84-a83f-d1c3875d714d",
   "metadata": {},
   "outputs": [],
   "source": [
    "es_client = Elasticsearch('http://localhost:9200')"
   ]
  },
  {
   "cell_type": "code",
   "execution_count": 33,
   "id": "d62168dd-8c85-4dd3-bf2e-388ad7ac9caa",
   "metadata": {},
   "outputs": [
    {
     "data": {
      "text/plain": [
       "ObjectApiResponse({'acknowledged': True, 'shards_acknowledged': True, 'index': 'contributing_h4la'})"
      ]
     },
     "execution_count": 33,
     "metadata": {},
     "output_type": "execute_result"
    }
   ],
   "source": [
    "es_client.indices.delete(index=index_name, ignore_unavailable=True)\n",
    "es_client.indices.create(index=index_name, body=index_settings)"
   ]
  },
  {
   "cell_type": "code",
   "execution_count": 36,
   "id": "c46557ab-9706-48a1-926d-9518cc238c2b",
   "metadata": {},
   "outputs": [
    {
     "data": {
      "application/vnd.jupyter.widget-view+json": {
       "model_id": "f99acdf9aeaa4ab3bf46207901372ad3",
       "version_major": 2,
       "version_minor": 0
      },
      "text/plain": [
       "  0%|          | 0/60 [00:00<?, ?it/s]"
      ]
     },
     "metadata": {},
     "output_type": "display_data"
    }
   ],
   "source": [
    "for doc in tqdm(docs):\n",
    "    # extract content from doc\n",
    "    content = doc.get('page_content')\n",
    "    headers = ' '.join([doc.get(f'header_{i}', '') for i in range(1, 6)])\n",
    "\n",
    "    # combine headers and content for full text encoding\n",
    "    combined_text = headers + ' ' + content\n",
    "\n",
    "    # encode content and headers\n",
    "    doc['page_content_vector'] = model.encode(content)\n",
    "    doc['metadata_vector'] = model.encode(headers)\n",
    "    doc['combined_vector'] = model.encode(combined_text)"
   ]
  },
  {
   "cell_type": "code",
   "execution_count": 38,
   "id": "847561f9-4a79-4f9e-90ff-c87608f3b94f",
   "metadata": {},
   "outputs": [
    {
     "data": {
      "application/vnd.jupyter.widget-view+json": {
       "model_id": "60cb740ee9034ef9a31f3476dedf222b",
       "version_major": 2,
       "version_minor": 0
      },
      "text/plain": [
       "  0%|          | 0/60 [00:00<?, ?it/s]"
      ]
     },
     "metadata": {},
     "output_type": "display_data"
    }
   ],
   "source": [
    "for doc in tqdm(docs):\n",
    "    es_client.index(index=index_name, document=doc)"
   ]
  },
  {
   "cell_type": "code",
   "execution_count": null,
   "id": "0a0bf0dc-6ea4-4862-a894-9356a6663065",
   "metadata": {},
   "outputs": [],
   "source": []
  }
 ],
 "metadata": {
  "kernelspec": {
   "display_name": "Python 3 (ipykernel)",
   "language": "python",
   "name": "python3"
  },
  "language_info": {
   "codemirror_mode": {
    "name": "ipython",
    "version": 3
   },
   "file_extension": ".py",
   "mimetype": "text/x-python",
   "name": "python",
   "nbconvert_exporter": "python",
   "pygments_lexer": "ipython3",
   "version": "3.12.4"
  }
 },
 "nbformat": 4,
 "nbformat_minor": 5
}
